{
  "nbformat": 4,
  "nbformat_minor": 0,
  "metadata": {
    "colab": {
      "name": "wildfires_rec_6.ipynb",
      "provenance": [],
      "collapsed_sections": []
    },
    "kernelspec": {
      "display_name": "Python 3",
      "language": "python",
      "name": "python3"
    },
    "language_info": {
      "codemirror_mode": {
        "name": "ipython",
        "version": 3
      },
      "file_extension": ".py",
      "mimetype": "text/x-python",
      "name": "python",
      "nbconvert_exporter": "python",
      "pygments_lexer": "ipython3",
      "version": "3.7.6"
    }
  },
  "cells": [
    {
      "cell_type": "markdown",
      "metadata": {
        "id": "T99FTKPG9YQW"
      },
      "source": [
        "**Recitation 6**\n",
        "\n",
        "    FIRE_YEAR = Calendar year in which the fire was discovered or confirmed to exist.\n",
        "    \n",
        "    STATE = Two-letter alphabetic code for the state in which the fire burned (or originated).\n",
        "    \n",
        "    LATITUDE = Latitude (NAD83) for point location of the fire (decimal degrees).\n",
        "    \n",
        "    LONGITUDE = Longitude (NAD83) for point location of the fire (decimal degrees).\n",
        "    \n",
        "    FIRE_SIZE = Estimate of acres within the final perimeter of the fire.\n",
        "    \n",
        "    FIRE_SIZE_CLASS = Code for fire size based on the number of acres within the final fire perimeter expenditures (A=greater than 0 but less than or equal to 0.25 acres, B=0.26-9.9 acres, C=10.0-99.9 acres, D=100-299 acres, E=300 to 999 acres, F=1000 to 4999 acres, and G=5000+ acres).\n",
        "\n",
        "**The outline of this recitation is as follows:**\n",
        "\n",
        "(i) Data imputation using OpenCage geolocator API\n",
        "\n",
        "  - Some records in the database are missing a value for STATE but have values for LATITUDE and LONGITUDE. We will impute the missing value for STATE with LATITUDE and LONGITUDE using a Google geolocator API.\n",
        "    \n",
        "(ii) Visualizations using SQL queries via Python\n",
        "\n",
        "  - We will call upon SQL queries in Python with the help of a useful software library called Pandas (to be explained later) and then conduct exploratory data analysis by creating time series plots and histograms.\n",
        "    \n",
        "(iii) Extensions with geo shapes\n",
        "  - We will use an extension of Pandas, GeoPandas, along with spatial data to see how we can combine datapoints with spatial features such as urban areas and generate useful summaries of fire statistics by geographic area.\n",
        "\n",
        "**How and what to submit:**\n",
        "\n",
        "\n"
      ]
    },
    {
      "cell_type": "markdown",
      "metadata": {
        "id": "YS4dtzRpHyEi"
      },
      "source": [
        "--------------------------------------------------------------------------------------------------------------------------------------------------------"
      ]
    },
    {
      "cell_type": "markdown",
      "metadata": {
        "id": "KpW6yRuidJvY"
      },
      "source": [
        "**Set up**\n",
        "\n",
        "This lab is written to be run in Google colab. Running in Google colab avoids issues with packages conflicting with each other. There are other ways to overcome this in other python environments, but we won't worry about that here.\n",
        "\n"
      ]
    },
    {
      "cell_type": "markdown",
      "metadata": {
        "id": "ysFbRdAvTpzL"
      },
      "source": [
        "As mentioned, we will be using a geolocater API. The process of converting longitude and latitude into street address, for example, is called reverse geocoding. To fully utilize the API, we will first need a API key.\n",
        "\n",
        "Go to https://opencagedata.com/api and create a free acount using your Cornell or personal email.\n",
        "\n",
        "Once you are logged in and on \"Your Dashboard,\" click on the `API Keys` button and copy key. We'll need it later."
      ]
    },
    {
      "cell_type": "markdown",
      "metadata": {
        "id": "-mVRp57P5K8M"
      },
      "source": [
        "*Importing necessary libraries*\n",
        "\n",
        "\n",
        "\n",
        "* **sqlite3** - For our purposes, we will use the library solely to connect to a SQLite database, allowing us to make queries on a database of interest. In our case, we will make a connection with the \"Wildfires.sqlite\" database and run SQL queries all from Python. \n",
        "\n",
        "* **pandas** - is a widely used data manipulation and analysis library written for Python. One of its primary objects is dataframes, which are similar to SQLite tables: rows and columns in dataframes are analogous to records and features in SQLite tables. We will primarily be using Pandas to return a dataframe of a query result on a SQLite database.\n",
        "\n",
        "* **matplotlib.pyplot** - let's us plot the dataframes we obtained from our SQL-Pandas integration from above. \n",
        "\n",
        "*Note:* The **as** function simply abbreviates the library name, so that whenever we call upon the library, we only have to reference an abbreviation (e.g. *pd* as opposed to *pandas* )."
      ]
    },
    {
      "cell_type": "code",
      "metadata": {
        "id": "e79hinDK9YQZ"
      },
      "source": [
        "import sqlite3 as sq\n",
        "import pandas as pd\n",
        "import matplotlib.pyplot as plt\n",
        "%matplotlib inline\n",
        "\n",
        "import os\n",
        "import IPython\n",
        "\n",
        "# Graph Styling\n",
        "plt.rcParams[\"figure.figsize\"] = (10,10)  # Sets the figure size to be larger than the default\n",
        "plt.rcParams['axes.labelsize'] = 14       # Sets The axis labels\n",
        "plt.rcParams['xtick.labelsize'] = 12      # Sets the x-axis tick marker labels\n",
        "plt.rcParams['ytick.labelsize'] = 12      # Sets the y-axis tick marker labels"
      ],
      "execution_count": 1,
      "outputs": []
    },
    {
      "cell_type": "markdown",
      "metadata": {
        "id": "oy6shsy9dYPw"
      },
      "source": [
        "*Connecting to SQLite database*\n",
        "\n",
        "If the following line of code fails, it is because Wildfires.sqlite hasn't been uploaded yet. Make sure to follow the step at the start of the recitation to upload this.\n",
        "\n"
      ]
    },
    {
      "cell_type": "code",
      "metadata": {
        "id": "5dJ_YNCr9YQg"
      },
      "source": [
        "# Double check that Wildfires.sqlite has been uploaded to colab\n",
        "assert(os.path.isfile('Wildfires.sqlite'))\n",
        "# Connecting to Wildfires database\n",
        "conn = sq.connect('Wildfires.sqlite')"
      ],
      "execution_count": 9,
      "outputs": []
    },
    {
      "cell_type": "code",
      "metadata": {
        "id": "NozpFLNZpHnL",
        "colab": {
          "base_uri": "https://localhost:8080/"
        },
        "outputId": "4fcd0fba-9f33-4bb3-8560-4be4b44b8b99"
      },
      "source": [
        "!pip install opencage\n",
        "from opencage.geocoder import OpenCageGeocode\n",
        "\n",
        "\"\"\"\n",
        "ENTER YOUR KEY BELOW, \n",
        "\"\"\"\n",
        "key = '4fd146a1ac1543c0b0ea29b395bccea3'\n",
        "if key == '':\n",
        "  raise Exception('Change API key string. Be sure to follow the instructions above')\n",
        "\n",
        "def get_state_code(lat,longs):\n",
        "    geocoder = OpenCageGeocode(key)\n",
        "    results = geocoder.reverse_geocode(lat, longs)\n",
        "    return results[0]['components']['state_code']"
      ],
      "execution_count": 7,
      "outputs": [
        {
          "output_type": "stream",
          "text": [
            "Collecting opencage\n",
            "  Downloading https://files.pythonhosted.org/packages/44/56/e912b950ab7b05902c08ebc3eb6c6e22f40ca2657194e04fc205a9d793e7/opencage-1.2.2-py3-none-any.whl\n",
            "Requirement already satisfied: Requests>=2.2.0 in /usr/local/lib/python3.7/dist-packages (from opencage) (2.23.0)\n",
            "Collecting pyopenssl>=0.15.1\n",
            "\u001b[?25l  Downloading https://files.pythonhosted.org/packages/b2/5e/06351ede29fd4899782ad335c2e02f1f862a887c20a3541f17c3fa1a3525/pyOpenSSL-20.0.1-py2.py3-none-any.whl (54kB)\n",
            "\r\u001b[K     |██████                          | 10kB 20.6MB/s eta 0:00:01\r\u001b[K     |████████████▏                   | 20kB 8.7MB/s eta 0:00:01\r\u001b[K     |██████████████████▏             | 30kB 9.0MB/s eta 0:00:01\r\u001b[K     |████████████████████████▎       | 40kB 9.2MB/s eta 0:00:01\r\u001b[K     |██████████████████████████████▎ | 51kB 6.7MB/s eta 0:00:01\r\u001b[K     |████████████████████████████████| 61kB 4.4MB/s \n",
            "\u001b[?25hRequirement already satisfied: six>=1.4.0 in /usr/local/lib/python3.7/dist-packages (from opencage) (1.15.0)\n",
            "Collecting backoff>=1.10.0\n",
            "  Downloading https://files.pythonhosted.org/packages/f0/32/c5dd4f4b0746e9ec05ace2a5045c1fc375ae67ee94355344ad6c7005fd87/backoff-1.10.0-py2.py3-none-any.whl\n",
            "Requirement already satisfied: certifi>=2017.4.17 in /usr/local/lib/python3.7/dist-packages (from Requests>=2.2.0->opencage) (2020.12.5)\n",
            "Requirement already satisfied: idna<3,>=2.5 in /usr/local/lib/python3.7/dist-packages (from Requests>=2.2.0->opencage) (2.10)\n",
            "Requirement already satisfied: chardet<4,>=3.0.2 in /usr/local/lib/python3.7/dist-packages (from Requests>=2.2.0->opencage) (3.0.4)\n",
            "Requirement already satisfied: urllib3!=1.25.0,!=1.25.1,<1.26,>=1.21.1 in /usr/local/lib/python3.7/dist-packages (from Requests>=2.2.0->opencage) (1.24.3)\n",
            "Collecting cryptography>=3.2\n",
            "\u001b[?25l  Downloading https://files.pythonhosted.org/packages/f8/1f/acde6ff69864c5e78b56488e3afd93c1ccc8c2651186e2a5f93d93f64859/cryptography-3.4.6-cp36-abi3-manylinux2014_x86_64.whl (3.2MB)\n",
            "\u001b[K     |████████████████████████████████| 3.2MB 10.6MB/s \n",
            "\u001b[?25hRequirement already satisfied: cffi>=1.12 in /usr/local/lib/python3.7/dist-packages (from cryptography>=3.2->pyopenssl>=0.15.1->opencage) (1.14.5)\n",
            "Requirement already satisfied: pycparser in /usr/local/lib/python3.7/dist-packages (from cffi>=1.12->cryptography>=3.2->pyopenssl>=0.15.1->opencage) (2.20)\n",
            "Installing collected packages: cryptography, pyopenssl, backoff, opencage\n",
            "Successfully installed backoff-1.10.0 cryptography-3.4.6 opencage-1.2.2 pyopenssl-20.0.1\n"
          ],
          "name": "stdout"
        }
      ]
    },
    {
      "cell_type": "markdown",
      "metadata": {
        "id": "N_lodw-_NuhN"
      },
      "source": [
        "In this dataset, some of the states are missing. This might be because of data collection issues or because the file was modified at some point during its history.\n",
        "\n",
        "Let's start by understanding how many records are missing. We do this by running a query that counts the number of missing records, putting the results in a dataframe, and then printing out this dataframe. Python prints this dataframe because it is the output of the last command in the cell.\n",
        "\n",
        "*pd.read_sql_query([query], conn)* - is a function that reads the SQL query and returns a pandas dataframe. Here is an example of how it is used.\n",
        "[query] should be one long string containing the entire query."
      ]
    },
    {
      "cell_type": "code",
      "metadata": {
        "id": "34tPYCnw708Y",
        "colab": {
          "base_uri": "https://localhost:8080/",
          "height": 79
        },
        "outputId": "1c3f46f9-a5ad-40b6-f358-96079aa4336f"
      },
      "source": [
        "pd.read_sql_query(\"select count(*) from fires where state IS NULL\",conn)"
      ],
      "execution_count": 10,
      "outputs": [
        {
          "output_type": "execute_result",
          "data": {
            "text/html": [
              "<div>\n",
              "<style scoped>\n",
              "    .dataframe tbody tr th:only-of-type {\n",
              "        vertical-align: middle;\n",
              "    }\n",
              "\n",
              "    .dataframe tbody tr th {\n",
              "        vertical-align: top;\n",
              "    }\n",
              "\n",
              "    .dataframe thead th {\n",
              "        text-align: right;\n",
              "    }\n",
              "</style>\n",
              "<table border=\"1\" class=\"dataframe\">\n",
              "  <thead>\n",
              "    <tr style=\"text-align: right;\">\n",
              "      <th></th>\n",
              "      <th>count(*)</th>\n",
              "    </tr>\n",
              "  </thead>\n",
              "  <tbody>\n",
              "    <tr>\n",
              "      <th>0</th>\n",
              "      <td>376</td>\n",
              "    </tr>\n",
              "  </tbody>\n",
              "</table>\n",
              "</div>"
            ],
            "text/plain": [
              "   count(*)\n",
              "0       376"
            ]
          },
          "metadata": {
            "tags": []
          },
          "execution_count": 10
        }
      ]
    },
    {
      "cell_type": "markdown",
      "metadata": {
        "id": "I2PGy8I28Idj"
      },
      "source": [
        "**Question #1:** How many records have missing states?\n"
      ]
    },
    {
      "cell_type": "markdown",
      "metadata": {
        "id": "Rywq4scNossN"
      },
      "source": [
        ""
      ]
    },
    {
      "cell_type": "markdown",
      "metadata": {
        "id": "8yig2caZILek"
      },
      "source": [
        "\n",
        "\n",
        "```\n",
        "\n",
        "376 records have missing states"
      ]
    },
    {
      "cell_type": "markdown",
      "metadata": {
        "id": "-tDjqQQzILnp"
      },
      "source": [
        "This is a small fraction of the data, but it's large enough to cause problems. We'll fix this by filling in the missing values. This is called \"imputing\" the data. To do this, we create a query that gets all the records whose states have null values and saves that into a pandas \"dataframe\". \n",
        "\n"
      ]
    },
    {
      "cell_type": "markdown",
      "metadata": {
        "id": "XDv1Fo0OKt7f"
      },
      "source": [
        "**Question #2:** Write a line of code that saves this SQL query \"select objectid, latitude, longitude from fires where state IS NULL\" into a pandas dataframe named \"missing_df\""
      ]
    },
    {
      "cell_type": "code",
      "metadata": {
        "id": "YqNEDO4vLMXj"
      },
      "source": [
        "# Enter the line of code below and run it"
      ],
      "execution_count": null,
      "outputs": []
    },
    {
      "cell_type": "code",
      "metadata": {
        "id": "UWfx3uPVpA7S"
      },
      "source": [
        "missing_df=pd.read_sql_query(\"select objectid, latitude, longitude from fires where state IS NULL\",conn)"
      ],
      "execution_count": 13,
      "outputs": []
    },
    {
      "cell_type": "code",
      "metadata": {
        "id": "38jBc3GE9HYH",
        "colab": {
          "base_uri": "https://localhost:8080/",
          "height": 202
        },
        "outputId": "61d685e6-6abb-4537-99f8-314dad8502ed"
      },
      "source": [
        "#Run this and make sure your dataframe looks good\n",
        "missing_df.head()"
      ],
      "execution_count": 14,
      "outputs": [
        {
          "output_type": "execute_result",
          "data": {
            "text/html": [
              "<div>\n",
              "<style scoped>\n",
              "    .dataframe tbody tr th:only-of-type {\n",
              "        vertical-align: middle;\n",
              "    }\n",
              "\n",
              "    .dataframe tbody tr th {\n",
              "        vertical-align: top;\n",
              "    }\n",
              "\n",
              "    .dataframe thead th {\n",
              "        text-align: right;\n",
              "    }\n",
              "</style>\n",
              "<table border=\"1\" class=\"dataframe\">\n",
              "  <thead>\n",
              "    <tr style=\"text-align: right;\">\n",
              "      <th></th>\n",
              "      <th>OBJECTID</th>\n",
              "      <th>LATITUDE</th>\n",
              "      <th>LONGITUDE</th>\n",
              "    </tr>\n",
              "  </thead>\n",
              "  <tbody>\n",
              "    <tr>\n",
              "      <th>0</th>\n",
              "      <td>5000</td>\n",
              "      <td>48.356944</td>\n",
              "      <td>-117.614722</td>\n",
              "    </tr>\n",
              "    <tr>\n",
              "      <th>1</th>\n",
              "      <td>10000</td>\n",
              "      <td>41.137778</td>\n",
              "      <td>-123.285833</td>\n",
              "    </tr>\n",
              "    <tr>\n",
              "      <th>2</th>\n",
              "      <td>15000</td>\n",
              "      <td>43.167778</td>\n",
              "      <td>-121.966111</td>\n",
              "    </tr>\n",
              "    <tr>\n",
              "      <th>3</th>\n",
              "      <td>20000</td>\n",
              "      <td>44.364444</td>\n",
              "      <td>-120.334167</td>\n",
              "    </tr>\n",
              "    <tr>\n",
              "      <th>4</th>\n",
              "      <td>25000</td>\n",
              "      <td>38.931111</td>\n",
              "      <td>-119.976389</td>\n",
              "    </tr>\n",
              "  </tbody>\n",
              "</table>\n",
              "</div>"
            ],
            "text/plain": [
              "   OBJECTID   LATITUDE   LONGITUDE\n",
              "0      5000  48.356944 -117.614722\n",
              "1     10000  41.137778 -123.285833\n",
              "2     15000  43.167778 -121.966111\n",
              "3     20000  44.364444 -120.334167\n",
              "4     25000  38.931111 -119.976389"
            ]
          },
          "metadata": {
            "tags": []
          },
          "execution_count": 14
        }
      ]
    },
    {
      "cell_type": "markdown",
      "metadata": {
        "id": "Wjvyz9xpL47S"
      },
      "source": [
        "**Time to impute the data**\n",
        "\n",
        "Before we get started, here are important terms and functions for queries that modify SQL tables.\n",
        "\n",
        "* *conn.cursor()* - returns a \"cursor\". A cursor is an object that keeps track of a connection to an SQL database.\n",
        "\n",
        "* *cursor.execute([query])* - uses the cursor to execute queries. We will run queries that use UPDATE, allowing us to modify the SQL table. [query] should be one long string containing the entire query.\n",
        "\n",
        "* *conn.commit()* - once an UPDATE query is sent to the database by *cursor.execute()*, we then need to \"commit\" the changes before they will appear in the database. If there is an error before *conn.commit()* is called, causing the commit to not happen, then none of the changes actually show up in the database.\n",
        "\n",
        "* *pandas.dataframe.iterrows()* - within a for loop, as shown below, allows us to perform operations on one row at a time from a DataFrame.  This is described in more detail below. "
      ]
    },
    {
      "cell_type": "code",
      "metadata": {
        "id": "mkJ8j3go4whb",
        "colab": {
          "base_uri": "https://localhost:8080/"
        },
        "outputId": "64f9e738-3f5e-4f17-a836-57b29b4a30bf"
      },
      "source": [
        "# Here is an example of cursor, execute, and commit.\n",
        "\n",
        "# This inserts a fake record into the database\n",
        "cur = conn.cursor()\n",
        "cur.execute(\"INSERT INTO Fires VALUES (-1, 'NY', 23.221, -14.3444, 2020, 150, 'A')\")\n",
        "conn.commit()\n",
        "\n",
        "# Also, note that strings can be defined with either single quotes or double quotes.\n",
        "# We used double quotes above because we wanted to write a string that \n",
        "# contains single quotes. \n",
        "# The following line, where we swap single quotes for double quotes\n",
        "# and vice versa, would be equally valid as the one above:\n",
        "# cur.execute('INSERT INTO Fires VALUES (-1, \"NY\", 23.221, -14.3444, 2020, 150, \"A\")')\n",
        "\n",
        "# This should show one record with the values inserted above\n",
        "print(pd.read_sql_query(\"select * from fires where objectid = -1\",conn))\n",
        "\n",
        "cur = conn.cursor()\n",
        "cur.execute(\"UPDATE Fires SET latitude = 79 WHERE objectid = -1\")\n",
        "conn.commit()\n",
        "\n",
        "# Now the record should have a latitude of 79\n",
        "print(pd.read_sql_query(\"SELECT * FROM Fires WHERE objectid = -1\",conn))\n",
        "\n",
        "# Drop the column that was just added\n",
        "cur = conn.cursor()\n",
        "cur.execute(\"DELETE FROM Fires WHERE objectid = -1\")\n",
        "conn.commit()\n",
        "\n",
        "# This should return no records (i.e. an empty DataFrame)\n",
        "print(pd.read_sql_query(\"select * from fires where objectid = -1\",conn))"
      ],
      "execution_count": 16,
      "outputs": [
        {
          "output_type": "stream",
          "text": [
            "   OBJECTID state  LATITUDE  LONGITUDE  FIRE_YEAR  FIRE_SIZE FIRE_SIZE_CLASS\n",
            "0        -1    NY    23.221   -14.3444       2020      150.0               A\n",
            "   OBJECTID state  LATITUDE  LONGITUDE  FIRE_YEAR  FIRE_SIZE FIRE_SIZE_CLASS\n",
            "0        -1    NY      79.0   -14.3444       2020      150.0               A\n",
            "Empty DataFrame\n",
            "Columns: [OBJECTID, state, LATITUDE, LONGITUDE, FIRE_YEAR, FIRE_SIZE, FIRE_SIZE_CLASS]\n",
            "Index: []\n"
          ],
          "name": "stdout"
        }
      ]
    },
    {
      "cell_type": "code",
      "metadata": {
        "id": "sBdL_NZ9yda8",
        "colab": {
          "base_uri": "https://localhost:8080/"
        },
        "outputId": "178d1a6d-791b-41b9-ffa5-2644b3ae20fb"
      },
      "source": [
        "# Here is an example with iterrows()\n",
        "short_df = missing_df[missing_df['OBJECTID']<20000] # filter so that we don't print out too many rows\n",
        "for index, row in short_df.iterrows():\n",
        "  # row is a single row from missing_df. You can access values from that row \n",
        "  # using square brackets, just as we would with a full dataframe.  For example, \n",
        "  # row['LATITUDE'] contains that row's value for latitude.\n",
        "  # We are changing the type of the objectid and latitude to strings with str()\n",
        "  # so that we can concatenate them with other strings before printing\n",
        "  print('This row has objectid ' + str(row['OBJECTID']))\n",
        "  print('This row has latitude ' + str(row['LATITUDE']) + ' and longitude ' + str(row['LATITUDE']))\n"
      ],
      "execution_count": 17,
      "outputs": [
        {
          "output_type": "stream",
          "text": [
            "This row has objectid 5000.0\n",
            "This row has latitude 48.35694444 and longitude 48.35694444\n",
            "This row has objectid 10000.0\n",
            "This row has latitude 41.13777778 and longitude 41.13777778\n",
            "This row has objectid 15000.0\n",
            "This row has latitude 43.16777778 and longitude 43.16777778\n"
          ],
          "name": "stdout"
        }
      ]
    },
    {
      "cell_type": "markdown",
      "metadata": {
        "id": "pKezGKfD8i6A"
      },
      "source": [
        "\n",
        "We will now fill in missing data. We will operate on one row from missing_df at a time using *iterrows()*. For each row, we will first call the *get_state_code()* function defined above to obtain the correct state code from the fire's latitude and longitude. We will then modify the value in the original table to use this state code by executing an \"UPDATE\" query.\n",
        "\n",
        "Once you write the code, running it will take approximately 3 minutes. You can monitor the progress by using a print function."
      ]
    },
    {
      "cell_type": "markdown",
      "metadata": {
        "id": "BUei-D21RwIz"
      },
      "source": [
        "**Question #3**: Lets write the imputation function. Part of it has been filled in for you."
      ]
    },
    {
      "cell_type": "code",
      "metadata": {
        "id": "bLadCDMG1Q0-",
        "colab": {
          "base_uri": "https://localhost:8080/"
        },
        "outputId": "6558941d-5691-4f84-fa7a-20d5fe232acf"
      },
      "source": [
        "cur = conn.cursor()\n",
        "for index, row in missing_df.iterrows():\n",
        "    # create a string, called impute_query, that contains an SQL UPDATE command.\n",
        "    # This command should update the record whose objectid is row[0]\n",
        "    code = get_state_code(row['LATITUDE'],row['LONGITUDE'])\n",
        "    impute_query = 'UPDATE Fires SET STATE =\"'+ code +'\" WHERE Fires.objectid='+str(row[0]) \n",
        "    cur.execute(impute_query)\n",
        "\n",
        "    # This code tracks the progress of your imputation.\n",
        "    IPython.display.clear_output()\n",
        "    print(\"[\" + str(index+1) + \"/376] completed || Currently processing ObjectID = \" + str(row[0]))\n",
        "\n",
        "    \n",
        "conn.commit()"
      ],
      "execution_count": 29,
      "outputs": [
        {
          "output_type": "stream",
          "text": [
            "[376/376] completed || Currently processing ObjectID = 1880000.0\n"
          ],
          "name": "stdout"
        }
      ]
    },
    {
      "cell_type": "markdown",
      "metadata": {
        "id": "Q9jfKLL-QlP1"
      },
      "source": [
        "If all went well, we should now have no missing state fields in our fires table. Let's re-run the query we used before to check the number of missing records. "
      ]
    },
    {
      "cell_type": "markdown",
      "metadata": {
        "id": "pMuPHYp6RHDS"
      },
      "source": [
        "**Question #4**: Copy the query for checking missing records and code for running it from above to the cell below. Then check that the number of missing records is 0. If it is not 0, there was a flaw in the imputation we did above. So, continue ONLY if you get 0."
      ]
    },
    {
      "cell_type": "code",
      "metadata": {
        "id": "PSLxOWDNSKmr",
        "colab": {
          "base_uri": "https://localhost:8080/",
          "height": 79
        },
        "outputId": "26577662-7871-4dad-bebf-9b2a0baf6478"
      },
      "source": [
        "#Enter answer here\n",
        "pd.read_sql_query(\"select count(*) from fires where state IS NULL\",conn)"
      ],
      "execution_count": 31,
      "outputs": [
        {
          "output_type": "execute_result",
          "data": {
            "text/html": [
              "<div>\n",
              "<style scoped>\n",
              "    .dataframe tbody tr th:only-of-type {\n",
              "        vertical-align: middle;\n",
              "    }\n",
              "\n",
              "    .dataframe tbody tr th {\n",
              "        vertical-align: top;\n",
              "    }\n",
              "\n",
              "    .dataframe thead th {\n",
              "        text-align: right;\n",
              "    }\n",
              "</style>\n",
              "<table border=\"1\" class=\"dataframe\">\n",
              "  <thead>\n",
              "    <tr style=\"text-align: right;\">\n",
              "      <th></th>\n",
              "      <th>count(*)</th>\n",
              "    </tr>\n",
              "  </thead>\n",
              "  <tbody>\n",
              "    <tr>\n",
              "      <th>0</th>\n",
              "      <td>0</td>\n",
              "    </tr>\n",
              "  </tbody>\n",
              "</table>\n",
              "</div>"
            ],
            "text/plain": [
              "   count(*)\n",
              "0         0"
            ]
          },
          "metadata": {
            "tags": []
          },
          "execution_count": 31
        }
      ]
    },
    {
      "cell_type": "markdown",
      "metadata": {
        "id": "ElIFOUghSP-r"
      },
      "source": [
        "Good work ! We now have completed the first objective in the recitation outline. This means we have a complete dataset moving forward."
      ]
    },
    {
      "cell_type": "markdown",
      "metadata": {
        "id": "I31JHv0YSov8"
      },
      "source": [
        "--------------------------------------------------------------------------------------------------------------------------------------------------------------------------------------"
      ]
    },
    {
      "cell_type": "markdown",
      "metadata": {
        "id": "fn8IaOwfexGg"
      },
      "source": [
        "**Exploratory Data Analysis**"
      ]
    },
    {
      "cell_type": "markdown",
      "metadata": {
        "id": "uhlWFPiJezBg"
      },
      "source": [
        "Recall, we will be focusing on the table \"Fires\" in the Wildfires.sqlite database. It contains essential information about the fire including but not limited to – name, location, size. For purposes of this recitation, we will also focus on 4 states: New York (\"NY\"), California (\"CA\"), Texas (\"TX\"), and Alaska (\"AK\").\n",
        "\n",
        "First, let's start by plotting the number of fires occurring each year statewise. We will do this plot for you as an example, please familiarize yourself with the code."
      ]
    },
    {
      "cell_type": "code",
      "metadata": {
        "id": "WKg0CUcX3jzw"
      },
      "source": [
        "# Defining the list of state to iterate over it\n",
        "States = [\"NY\", \"CA\", \"TX\", \"AK\"]"
      ],
      "execution_count": 32,
      "outputs": []
    },
    {
      "cell_type": "code",
      "metadata": {
        "id": "vqIl9RgW9YQi"
      },
      "source": [
        "# This code iterates over each state, and runs a query that counts the number of fires in the state in a year, \n",
        "# and then creates a dataframe, which is added to a dictionary whose index is the abbrevation for the state.\n",
        "# dates_dfs is a dictionary that has dataframes in it\n",
        "dates_dfs = {}\n",
        "for state in States:\n",
        "    dates_query = \"select state, fire_year, count(*) from fires where state is '\" + state  + \"' group by fire_year\"\n",
        "    dates_dfs[state] = pd.read_sql_query(dates_query,conn)"
      ],
      "execution_count": 33,
      "outputs": []
    },
    {
      "cell_type": "code",
      "metadata": {
        "id": "aBYk-BalT0nA",
        "colab": {
          "base_uri": "https://localhost:8080/",
          "height": 202
        },
        "outputId": "e938d4d6-0086-4bb2-e3bf-a00f44b294f4"
      },
      "source": [
        "#Lets take a look at how one of the elements in the dictionary looks\n",
        "dates_dfs[\"NY\"].head()"
      ],
      "execution_count": 34,
      "outputs": [
        {
          "output_type": "execute_result",
          "data": {
            "text/html": [
              "<div>\n",
              "<style scoped>\n",
              "    .dataframe tbody tr th:only-of-type {\n",
              "        vertical-align: middle;\n",
              "    }\n",
              "\n",
              "    .dataframe tbody tr th {\n",
              "        vertical-align: top;\n",
              "    }\n",
              "\n",
              "    .dataframe thead th {\n",
              "        text-align: right;\n",
              "    }\n",
              "</style>\n",
              "<table border=\"1\" class=\"dataframe\">\n",
              "  <thead>\n",
              "    <tr style=\"text-align: right;\">\n",
              "      <th></th>\n",
              "      <th>state</th>\n",
              "      <th>FIRE_YEAR</th>\n",
              "      <th>count(*)</th>\n",
              "    </tr>\n",
              "  </thead>\n",
              "  <tbody>\n",
              "    <tr>\n",
              "      <th>0</th>\n",
              "      <td>NY</td>\n",
              "      <td>1992</td>\n",
              "      <td>364</td>\n",
              "    </tr>\n",
              "    <tr>\n",
              "      <th>1</th>\n",
              "      <td>NY</td>\n",
              "      <td>1993</td>\n",
              "      <td>304</td>\n",
              "    </tr>\n",
              "    <tr>\n",
              "      <th>2</th>\n",
              "      <td>NY</td>\n",
              "      <td>1994</td>\n",
              "      <td>129</td>\n",
              "    </tr>\n",
              "    <tr>\n",
              "      <th>3</th>\n",
              "      <td>NY</td>\n",
              "      <td>1995</td>\n",
              "      <td>487</td>\n",
              "    </tr>\n",
              "    <tr>\n",
              "      <th>4</th>\n",
              "      <td>NY</td>\n",
              "      <td>1996</td>\n",
              "      <td>107</td>\n",
              "    </tr>\n",
              "  </tbody>\n",
              "</table>\n",
              "</div>"
            ],
            "text/plain": [
              "  state  FIRE_YEAR  count(*)\n",
              "0    NY       1992       364\n",
              "1    NY       1993       304\n",
              "2    NY       1994       129\n",
              "3    NY       1995       487\n",
              "4    NY       1996       107"
            ]
          },
          "metadata": {
            "tags": []
          },
          "execution_count": 34
        }
      ]
    },
    {
      "cell_type": "code",
      "metadata": {
        "id": "7l6iYls69YQk",
        "colab": {
          "base_uri": "https://localhost:8080/",
          "height": 302
        },
        "outputId": "14d82f9c-ea62-40cc-ef53-bc68029dbafe"
      },
      "source": [
        "# .iloc[] (or, \"index locator\") is a function that retrieves records within a range of indices. \n",
        "# Here, .iloc[:,1] retrieves a column of all records and their value for the 1st column (FIRE_YEAR in this case)\n",
        "# Similarily, iloc[:,2] retrieves a column of all records and their value for the 2nd column (COUNT(*) in this case)\n",
        "for state in States:\n",
        "    plt.plot(dates_dfs[state].iloc[:,1], dates_dfs[state].iloc[:,2])\n",
        "\n",
        "plt.legend(States)\n",
        "plt.xlabel(\"Year\")\n",
        "plt.ylabel(\"Number of Fires\")\n",
        "plt.title(\"Number of Fires vs Year (for Various States)\")\n",
        "plt.show()"
      ],
      "execution_count": 35,
      "outputs": [
        {
          "output_type": "display_data",
          "data": {
            "image/png": "[encoded data removed]",
            "text/plain": [
              "<Figure size 432x288 with 1 Axes>"
            ]
          },
          "metadata": {
            "tags": [],
            "needs_background": "light"
          }
        }
      ]
    },
    {
      "cell_type": "markdown",
      "metadata": {
        "id": "lYyHADN3khNC"
      },
      "source": [
        "**Question #5:** We see something interesting in the histogram. One state seems like it has the least number of fires. Which state is this ?"
      ]
    },
    {
      "cell_type": "markdown",
      "metadata": {
        "id": "s3ME84HFk2MQ"
      },
      "source": [
        "\n",
        "\n",
        "```\n",
        "\n",
        "*Alaska*"
      ]
    },
    {
      "cell_type": "markdown",
      "metadata": {
        "id": "iQwmCkZAk9Fn"
      },
      "source": [
        "However, this can be misleading. Lets explore a little more. \n",
        "\n",
        "**Question #6:** Particularly, write some python code, similar to what we wrote above, that plots the average fire size in each state against time (year). Lets do this in a couple steps."
      ]
    },
    {
      "cell_type": "code",
      "metadata": {
        "id": "McG-lBjyV1L8"
      },
      "source": [
        "# Write a string representing a query that selects state, fire_year, average fire size from fires and group it by state and year.\n",
        "# average fire size = sum of fire_size/ total rows grouped by state and fire year\n",
        "size_query = 'select state, fire_year, sum(fire_size)/count(fire_size) as avg_fire_size from fires group by state, fire_year'\n",
        "\n",
        "# Read this query into a pandas dataframe\n",
        "size_df = pd.read_sql_query(size_query,conn)"
      ],
      "execution_count": 83,
      "outputs": []
    },
    {
      "cell_type": "code",
      "metadata": {
        "id": "ZFRcTKB2XDeL"
      },
      "source": [
        "sizes_dfs = {}\n",
        "# Write code that iterates over each state, and runs a new query to create dataframes to add to dictionary sizes_dfs = {}\n",
        "# Refer the code that was used to create the previous graph if you have trouble\n",
        "\n",
        "for state in States:\n",
        "    query='select state, fire_year, sum(fire_size)/count(fire_size) as avg_fire_size from fires where state is\"' + state+ '\" group by state, fire_year'\n",
        "    sizes_dfs[state] = pd.read_sql_query(query,conn)"
      ],
      "execution_count": 80,
      "outputs": []
    },
    {
      "cell_type": "code",
      "metadata": {
        "id": "4IuJTDmVXzy2",
        "colab": {
          "base_uri": "https://localhost:8080/",
          "height": 302
        },
        "outputId": "d71126f0-4122-44a2-fb38-737a137c1dc8"
      },
      "source": [
        "# Now create a plot similar to before\n",
        "\n",
        "for state in States:\n",
        "    plt.plot(sizes_dfs[state].iloc[:,1], sizes_dfs[state].iloc[:,2])\n",
        "\n",
        "plt.legend(States)\n",
        "plt.xlabel(\"Year\")\n",
        "plt.ylabel(\"Number of Fires\")\n",
        "plt.title(\"Number of Fires vs Year (for Various States)\")\n",
        "plt.show()"
      ],
      "execution_count": 82,
      "outputs": [
        {
          "output_type": "display_data",
          "data": {
            "image/png": "[encoded data removed]",
            "text/plain": [
              "<Figure size 432x288 with 1 Axes>"
            ]
          },
          "metadata": {
            "tags": [],
            "needs_background": "light"
          }
        }
      ]
    },
    {
      "cell_type": "markdown",
      "metadata": {
        "id": "yAEVJkP99YQm"
      },
      "source": [
        "It is interesting that even though Alaska has much fewer reported wildfires, the size of those wildfires are much larger when compared to other states. The discrepancy between the number of wildfires and the intensity of those wildfires for these particular states motivates us to examine the overall distribution of fire sizes in the dataset. Fortunately, the fire sizes are also classified by a \"class\" (lettered from A to G with A being the smallest and G being the largest), so we can examine the dataset through convenient categorical bins."
      ]
    },
    {
      "cell_type": "markdown",
      "metadata": {
        "id": "JRkpuG1-X8jF"
      },
      "source": [
        "Like before, we use *pd.read_sql_query([query], conn)* to read a SQL query and return a pandas dataframe. "
      ]
    },
    {
      "cell_type": "code",
      "metadata": {
        "id": "5qG7PMYv9YQm"
      },
      "source": [
        "size_class_query = \"select fire_size_class , count(*) from fires group by fire_size_class\"\n",
        "size_class_df = pd.read_sql_query(size_class_query,conn)"
      ],
      "execution_count": 84,
      "outputs": []
    },
    {
      "cell_type": "markdown",
      "metadata": {
        "id": "vcgVeSYzYnNj"
      },
      "source": [
        "Now we plot the resulting dataframe *size_class_df* into a bar graph as follows."
      ]
    },
    {
      "cell_type": "code",
      "metadata": {
        "id": "RSzMaUDz9YQn",
        "colab": {
          "base_uri": "https://localhost:8080/",
          "height": 302
        },
        "outputId": "23aa9396-40db-4a54-ef7e-927bd67606d5"
      },
      "source": [
        "# plt.bar(x,y) plots a bar graph of categories \"x\" with values \"y\": in our case, \"x\" are fire size classes and \"y\" are frequencies\n",
        "plt.bar(size_class_df.iloc[:,0],size_class_df.iloc[:,1])\n",
        "# .iloc[:,0] does the exact same thing as before: retrieve a column of all records and their value for the 0th column (FIRE_SIZE_CLASS, in this case) \n",
        "# plt styling\n",
        "plt.xlabel(\"Fire size class\")\n",
        "plt.ylabel(\"Frequency\")\n",
        "plt.title(\"Frequency v Fire size class\")\n",
        "plt.show()"
      ],
      "execution_count": 85,
      "outputs": [
        {
          "output_type": "display_data",
          "data": {
            "image/png": "[encoded data removed]",
            "text/plain": [
              "<Figure size 432x288 with 1 Axes>"
            ]
          },
          "metadata": {
            "tags": [],
            "needs_background": "light"
          }
        }
      ]
    },
    {
      "cell_type": "markdown",
      "metadata": {
        "id": "caFx-JVN9YQn"
      },
      "source": [
        "Let's focus our attention to the larger wildfires whose fire size class is either D, E, F, or G. (A quick search online or through the Kaggle dataset description reveals that wildfires of class size 'C' are between 10-100 acres -- so although these are important to consider in a more thorough analysis, we will restrict our attention to wildfires strictly larger than 100 acres for the ease of this recitation)\n",
        "\n",
        "Once again, we use *pd.read_sql_query([query], conn)* to read a SQL query and return a pandas dataframe."
      ]
    },
    {
      "cell_type": "code",
      "metadata": {
        "id": "KdgJxtXq9YQn"
      },
      "source": [
        "limit_data_query = \"select * from fires where fire_size_class not in ('A','B','C') \"\n",
        "limit_data_df = pd.read_sql_query(limit_data_query, conn)"
      ],
      "execution_count": 86,
      "outputs": []
    },
    {
      "cell_type": "markdown",
      "metadata": {
        "id": "RH3KAJRZZQiw"
      },
      "source": [
        "Now an immediate question of interest is to find the distribution of the wildfire sizes (measured in acres) of these larger wildfires. To do this, we can create a histogram of wildfire sizes (i.e. a plot of frequency against wildfire sizes).\n",
        "\n",
        "For ease of interpretation, we are going to import *numpy as np* to do a log transformation of the column wildfire size, since the range of wildfires' size spans many magnitudes. "
      ]
    },
    {
      "cell_type": "code",
      "metadata": {
        "id": "2naW5Lrg9YQo"
      },
      "source": [
        "import numpy as np"
      ],
      "execution_count": 88,
      "outputs": []
    },
    {
      "cell_type": "markdown",
      "metadata": {
        "id": "ErlvZNZfbRFT"
      },
      "source": [
        "**Question #8:** Create a histogram that plots the frequency against wildfire size for wildfires of class size D, E, F, or G."
      ]
    },
    {
      "cell_type": "code",
      "metadata": {
        "id": "mkAJi3OWaXBi",
        "colab": {
          "base_uri": "https://localhost:8080/",
          "height": 317
        },
        "outputId": "c36ecbda-a8a4-41a1-dbbc-59db47bcc914"
      },
      "source": [
        "# With numpy, take a log transformation of 'FIRE_SIZE' column in limit_data_df\n",
        "# Use plt.hist(data,bins=n) to plot this transformed column feature with a total of 'n' bins\n",
        "data = np.log(limit_data_df['FIRE_SIZE'])\n",
        "\n",
        "n=8\n",
        "plt.hist(data,bins=n)\n",
        "plt.xlabel('Log of Wildfire Size (In Acres)')\n",
        "plt.ylabel('Frequency')\n",
        "plt.title(\"Frequency v Log of Wildfire Size  \\n (for Wildfires of Class Size D-G)\")\n",
        "plt.show()"
      ],
      "execution_count": 96,
      "outputs": [
        {
          "output_type": "display_data",
          "data": {
            "image/png": "[encoded data removed]",
            "text/plain": [
              "<Figure size 432x288 with 1 Axes>"
            ]
          },
          "metadata": {
            "tags": [],
            "needs_background": "light"
          }
        }
      ]
    },
    {
      "cell_type": "markdown",
      "metadata": {
        "id": "x2AhuIEt9YQp"
      },
      "source": [
        "**Question #9:** Interpreting the histogram: How much more likely is a wildfire with size $S$ to occur than a wildfire with size $S^2$? Assume there is an inverse relationship between frequency and log of wildfire size. \n",
        "\n",
        "Hint: $f(S) \\propto \\frac{1}{\\log(S)} \\Rightarrow f(S) \\cdot \\log(S) =$ Constant"
      ]
    },
    {
      "cell_type": "markdown",
      "metadata": {
        "id": "5YPW4oinpJ5F"
      },
      "source": [
        "*\\#It's a lot more likely a wildfire with size S to occure than that with size S^2. In particularly, it's about twice as likely.*"
      ]
    },
    {
      "cell_type": "markdown",
      "metadata": {
        "id": "vDZv-B9J9YFv"
      },
      "source": [
        "**Wildfires in Urban Areas**\n",
        "\n",
        "Wildfires affect more than just rural, remote settings - in 2020 alone, wildfires claimed more than 30 lives and caused tens of billions of dollars in direct damages. As such, we are particularly interested in understanding how wildfires can affect populated areas. For instance, which urban areas are most susceptible to fires, and how large do the fires tend to be in each urban area?\n",
        "\n",
        "In fact, the tools to do this sort of analysis are available right here in Python - using Pandas and some adjacent packages, we are able to answer the above questions, and more."
      ]
    },
    {
      "cell_type": "markdown",
      "metadata": {
        "id": "AZRoKChJ9dQX"
      },
      "source": [
        "**GeoPandas**\n",
        "\n",
        "In addition to Pandas, we'll be using GeoPandas, a package that borrows the syntax and formatting of Pandas dataframes, but extends them to incorporate spatial data as well (like what you've worked with in the Tableau recitation). This way, you'll be able to use similar operations to work with spatial data."
      ]
    },
    {
      "cell_type": "code",
      "metadata": {
        "id": "_SOs8juQ9qDX",
        "colab": {
          "base_uri": "https://localhost:8080/"
        },
        "outputId": "89ca104d-01d2-44fe-ffa6-f8e26ded4754"
      },
      "source": [
        "!pip install geopandas\n",
        "!pip install pygeos\n",
        "import geopandas as gpd"
      ],
      "execution_count": 97,
      "outputs": [
        {
          "output_type": "stream",
          "text": [
            "Collecting geopandas\n",
            "\u001b[?25l  Downloading https://files.pythonhosted.org/packages/d7/bf/e9cefb69d39155d122b6ddca53893b61535fa6ffdad70bf5ef708977f53f/geopandas-0.9.0-py2.py3-none-any.whl (994kB)\n",
            "\r\u001b[K     |▎                               | 10kB 16.2MB/s eta 0:00:01\r\u001b[K     |▋                               | 20kB 16.5MB/s eta 0:00:01\r\u001b[K     |█                               | 30kB 12.9MB/s eta 0:00:01\r\u001b[K     |█▎                              | 40kB 12.7MB/s eta 0:00:01\r\u001b[K     |█▋                              | 51kB 7.4MB/s eta 0:00:01\r\u001b[K     |██                              | 61kB 7.7MB/s eta 0:00:01\r\u001b[K     |██▎                             | 71kB 8.1MB/s eta 0:00:01\r\u001b[K     |██▋                             | 81kB 8.9MB/s eta 0:00:01\r\u001b[K     |███                             | 92kB 9.1MB/s eta 0:00:01\r\u001b[K     |███▎                            | 102kB 7.8MB/s eta 0:00:01\r\u001b[K     |███▋                            | 112kB 7.8MB/s eta 0:00:01\r\u001b[K     |████                            | 122kB 7.8MB/s eta 0:00:01\r\u001b[K     |████▎                           | 133kB 7.8MB/s eta 0:00:01\r\u001b[K     |████▋                           | 143kB 7.8MB/s eta 0:00:01\r\u001b[K     |█████                           | 153kB 7.8MB/s eta 0:00:01\r\u001b[K     |█████▎                          | 163kB 7.8MB/s eta 0:00:01\r\u001b[K     |█████▋                          | 174kB 7.8MB/s eta 0:00:01\r\u001b[K     |██████                          | 184kB 7.8MB/s eta 0:00:01\r\u001b[K     |██████▎                         | 194kB 7.8MB/s eta 0:00:01\r\u001b[K     |██████▋                         | 204kB 7.8MB/s eta 0:00:01\r\u001b[K     |███████                         | 215kB 7.8MB/s eta 0:00:01\r\u001b[K     |███████▎                        | 225kB 7.8MB/s eta 0:00:01\r\u001b[K     |███████▋                        | 235kB 7.8MB/s eta 0:00:01\r\u001b[K     |████████                        | 245kB 7.8MB/s eta 0:00:01\r\u001b[K     |████████▎                       | 256kB 7.8MB/s eta 0:00:01\r\u001b[K     |████████▋                       | 266kB 7.8MB/s eta 0:00:01\r\u001b[K     |█████████                       | 276kB 7.8MB/s eta 0:00:01\r\u001b[K     |█████████▎                      | 286kB 7.8MB/s eta 0:00:01\r\u001b[K     |█████████▌                      | 296kB 7.8MB/s eta 0:00:01\r\u001b[K     |█████████▉                      | 307kB 7.8MB/s eta 0:00:01\r\u001b[K     |██████████▏                     | 317kB 7.8MB/s eta 0:00:01\r\u001b[K     |██████████▌                     | 327kB 7.8MB/s eta 0:00:01\r\u001b[K     |██████████▉                     | 337kB 7.8MB/s eta 0:00:01\r\u001b[K     |███████████▏                    | 348kB 7.8MB/s eta 0:00:01\r\u001b[K     |███████████▌                    | 358kB 7.8MB/s eta 0:00:01\r\u001b[K     |███████████▉                    | 368kB 7.8MB/s eta 0:00:01\r\u001b[K     |████████████▏                   | 378kB 7.8MB/s eta 0:00:01\r\u001b[K     |████████████▌                   | 389kB 7.8MB/s eta 0:00:01\r\u001b[K     |████████████▉                   | 399kB 7.8MB/s eta 0:00:01\r\u001b[K     |█████████████▏                  | 409kB 7.8MB/s eta 0:00:01\r\u001b[K     |█████████████▌                  | 419kB 7.8MB/s eta 0:00:01\r\u001b[K     |█████████████▉                  | 430kB 7.8MB/s eta 0:00:01\r\u001b[K     |██████████████▏                 | 440kB 7.8MB/s eta 0:00:01\r\u001b[K     |██████████████▌                 | 450kB 7.8MB/s eta 0:00:01\r\u001b[K     |██████████████▉                 | 460kB 7.8MB/s eta 0:00:01\r\u001b[K     |███████████████▏                | 471kB 7.8MB/s eta 0:00:01\r\u001b[K     |███████████████▌                | 481kB 7.8MB/s eta 0:00:01\r\u001b[K     |███████████████▉                | 491kB 7.8MB/s eta 0:00:01\r\u001b[K     |████████████████▏               | 501kB 7.8MB/s eta 0:00:01\r\u001b[K     |████████████████▌               | 512kB 7.8MB/s eta 0:00:01\r\u001b[K     |████████████████▉               | 522kB 7.8MB/s eta 0:00:01\r\u001b[K     |█████████████████▏              | 532kB 7.8MB/s eta 0:00:01\r\u001b[K     |█████████████████▌              | 542kB 7.8MB/s eta 0:00:01\r\u001b[K     |█████████████████▉              | 552kB 7.8MB/s eta 0:00:01\r\u001b[K     |██████████████████▏             | 563kB 7.8MB/s eta 0:00:01\r\u001b[K     |██████████████████▌             | 573kB 7.8MB/s eta 0:00:01\r\u001b[K     |██████████████████▊             | 583kB 7.8MB/s eta 0:00:01\r\u001b[K     |███████████████████             | 593kB 7.8MB/s eta 0:00:01\r\u001b[K     |███████████████████▍            | 604kB 7.8MB/s eta 0:00:01\r\u001b[K     |███████████████████▊            | 614kB 7.8MB/s eta 0:00:01\r\u001b[K     |████████████████████            | 624kB 7.8MB/s eta 0:00:01\r\u001b[K     |████████████████████▍           | 634kB 7.8MB/s eta 0:00:01\r\u001b[K     |████████████████████▊           | 645kB 7.8MB/s eta 0:00:01\r\u001b[K     |█████████████████████           | 655kB 7.8MB/s eta 0:00:01\r\u001b[K     |█████████████████████▍          | 665kB 7.8MB/s eta 0:00:01\r\u001b[K     |█████████████████████▊          | 675kB 7.8MB/s eta 0:00:01\r\u001b[K     |██████████████████████          | 686kB 7.8MB/s eta 0:00:01\r\u001b[K     |██████████████████████▍         | 696kB 7.8MB/s eta 0:00:01\r\u001b[K     |██████████████████████▊         | 706kB 7.8MB/s eta 0:00:01\r\u001b[K     |███████████████████████         | 716kB 7.8MB/s eta 0:00:01\r\u001b[K     |███████████████████████▍        | 727kB 7.8MB/s eta 0:00:01\r\u001b[K     |███████████████████████▊        | 737kB 7.8MB/s eta 0:00:01\r\u001b[K     |████████████████████████        | 747kB 7.8MB/s eta 0:00:01\r\u001b[K     |████████████████████████▍       | 757kB 7.8MB/s eta 0:00:01\r\u001b[K     |████████████████████████▊       | 768kB 7.8MB/s eta 0:00:01\r\u001b[K     |█████████████████████████       | 778kB 7.8MB/s eta 0:00:01\r\u001b[K     |█████████████████████████▍      | 788kB 7.8MB/s eta 0:00:01\r\u001b[K     |█████████████████████████▊      | 798kB 7.8MB/s eta 0:00:01\r\u001b[K     |██████████████████████████      | 808kB 7.8MB/s eta 0:00:01\r\u001b[K     |██████████████████████████▍     | 819kB 7.8MB/s eta 0:00:01\r\u001b[K     |██████████████████████████▊     | 829kB 7.8MB/s eta 0:00:01\r\u001b[K     |███████████████████████████     | 839kB 7.8MB/s eta 0:00:01\r\u001b[K     |███████████████████████████▍    | 849kB 7.8MB/s eta 0:00:01\r\u001b[K     |███████████████████████████▊    | 860kB 7.8MB/s eta 0:00:01\r\u001b[K     |████████████████████████████    | 870kB 7.8MB/s eta 0:00:01\r\u001b[K     |████████████████████████████▎   | 880kB 7.8MB/s eta 0:00:01\r\u001b[K     |████████████████████████████▋   | 890kB 7.8MB/s eta 0:00:01\r\u001b[K     |█████████████████████████████   | 901kB 7.8MB/s eta 0:00:01\r\u001b[K     |█████████████████████████████▎  | 911kB 7.8MB/s eta 0:00:01\r\u001b[K     |█████████████████████████████▋  | 921kB 7.8MB/s eta 0:00:01\r\u001b[K     |██████████████████████████████  | 931kB 7.8MB/s eta 0:00:01\r\u001b[K     |██████████████████████████████▎ | 942kB 7.8MB/s eta 0:00:01\r\u001b[K     |██████████████████████████████▋ | 952kB 7.8MB/s eta 0:00:01\r\u001b[K     |███████████████████████████████ | 962kB 7.8MB/s eta 0:00:01\r\u001b[K     |███████████████████████████████▎| 972kB 7.8MB/s eta 0:00:01\r\u001b[K     |███████████████████████████████▋| 983kB 7.8MB/s eta 0:00:01\r\u001b[K     |████████████████████████████████| 993kB 7.8MB/s eta 0:00:01\r\u001b[K     |████████████████████████████████| 1.0MB 7.8MB/s \n",
            "\u001b[?25hRequirement already satisfied: pandas>=0.24.0 in /usr/local/lib/python3.7/dist-packages (from geopandas) (1.1.5)\n",
            "Collecting fiona>=1.8\n",
            "\u001b[?25l  Downloading https://files.pythonhosted.org/packages/47/c2/67d1d0acbaaee3b03e5e22e3b96c33219cb5dd392531c9ff9cee7c2eb3e4/Fiona-1.8.18-cp37-cp37m-manylinux1_x86_64.whl (14.8MB)\n",
            "\u001b[K     |████████████████████████████████| 14.8MB 238kB/s \n",
            "\u001b[?25hRequirement already satisfied: shapely>=1.6 in /usr/local/lib/python3.7/dist-packages (from geopandas) (1.7.1)\n",
            "Collecting pyproj>=2.2.0\n",
            "\u001b[?25l  Downloading https://files.pythonhosted.org/packages/b1/72/d52e9ca81caef056062d71991b0e9b1d16af042245627c5d0e4916a36c4f/pyproj-3.0.1-cp37-cp37m-manylinux2010_x86_64.whl (6.5MB)\n",
            "\u001b[K     |████████████████████████████████| 6.5MB 36.8MB/s \n",
            "\u001b[?25hRequirement already satisfied: pytz>=2017.2 in /usr/local/lib/python3.7/dist-packages (from pandas>=0.24.0->geopandas) (2018.9)\n",
            "Requirement already satisfied: numpy>=1.15.4 in /usr/local/lib/python3.7/dist-packages (from pandas>=0.24.0->geopandas) (1.19.5)\n",
            "Requirement already satisfied: python-dateutil>=2.7.3 in /usr/local/lib/python3.7/dist-packages (from pandas>=0.24.0->geopandas) (2.8.1)\n",
            "Requirement already satisfied: certifi in /usr/local/lib/python3.7/dist-packages (from fiona>=1.8->geopandas) (2020.12.5)\n",
            "Requirement already satisfied: six>=1.7 in /usr/local/lib/python3.7/dist-packages (from fiona>=1.8->geopandas) (1.15.0)\n",
            "Collecting munch\n",
            "  Downloading https://files.pythonhosted.org/packages/cc/ab/85d8da5c9a45e072301beb37ad7f833cd344e04c817d97e0cc75681d248f/munch-2.5.0-py2.py3-none-any.whl\n",
            "Collecting cligj>=0.5\n",
            "  Downloading https://files.pythonhosted.org/packages/42/1e/947eadf10d6804bf276eb8a038bd5307996dceaaa41cfd21b7a15ec62f5d/cligj-0.7.1-py3-none-any.whl\n",
            "Requirement already satisfied: click<8,>=4.0 in /usr/local/lib/python3.7/dist-packages (from fiona>=1.8->geopandas) (7.1.2)\n",
            "Requirement already satisfied: attrs>=17 in /usr/local/lib/python3.7/dist-packages (from fiona>=1.8->geopandas) (20.3.0)\n",
            "Collecting click-plugins>=1.0\n",
            "  Downloading https://files.pythonhosted.org/packages/e9/da/824b92d9942f4e472702488857914bdd50f73021efea15b4cad9aca8ecef/click_plugins-1.1.1-py2.py3-none-any.whl\n",
            "Installing collected packages: munch, cligj, click-plugins, fiona, pyproj, geopandas\n",
            "Successfully installed click-plugins-1.1.1 cligj-0.7.1 fiona-1.8.18 geopandas-0.9.0 munch-2.5.0 pyproj-3.0.1\n",
            "Collecting pygeos\n",
            "\u001b[?25l  Downloading https://files.pythonhosted.org/packages/f5/2c/071f928a67d8a7e754a99ba3281ec685c8dfa4d64f9b83fc53ca2c325b82/pygeos-0.9-cp37-cp37m-manylinux1_x86_64.whl (2.1MB)\n",
            "\u001b[K     |████████████████████████████████| 2.1MB 8.2MB/s \n",
            "\u001b[?25hRequirement already satisfied: numpy>=1.13 in /usr/local/lib/python3.7/dist-packages (from pygeos) (1.19.5)\n",
            "Installing collected packages: pygeos\n",
            "Successfully installed pygeos-0.9\n"
          ],
          "name": "stdout"
        },
        {
          "output_type": "stream",
          "text": [
            "/usr/local/lib/python3.7/dist-packages/geopandas/_compat.py:110: UserWarning: The Shapely GEOS version (3.8.0-CAPI-1.13.1 ) is incompatible with the GEOS version PyGEOS was compiled with (3.9.0-CAPI-1.16.2). Conversions between both will be slow.\n",
            "  shapely_geos_version, geos_capi_version_string\n"
          ],
          "name": "stderr"
        }
      ]
    },
    {
      "cell_type": "code",
      "metadata": {
        "id": "8QTMFMvJ9sWA",
        "colab": {
          "base_uri": "https://localhost:8080/",
          "height": 415
        },
        "outputId": "1736eca5-ddd2-40c8-a2a7-c78516d4c6d0"
      },
      "source": [
        "# dataframe of fires to use in GeoPandas\n",
        "df = pd.read_sql_query(\"SELECT * FROM Fires\", conn)\n",
        "df"
      ],
      "execution_count": 98,
      "outputs": [
        {
          "output_type": "execute_result",
          "data": {
            "text/html": [
              "<div>\n",
              "<style scoped>\n",
              "    .dataframe tbody tr th:only-of-type {\n",
              "        vertical-align: middle;\n",
              "    }\n",
              "\n",
              "    .dataframe tbody tr th {\n",
              "        vertical-align: top;\n",
              "    }\n",
              "\n",
              "    .dataframe thead th {\n",
              "        text-align: right;\n",
              "    }\n",
              "</style>\n",
              "<table border=\"1\" class=\"dataframe\">\n",
              "  <thead>\n",
              "    <tr style=\"text-align: right;\">\n",
              "      <th></th>\n",
              "      <th>OBJECTID</th>\n",
              "      <th>state</th>\n",
              "      <th>LATITUDE</th>\n",
              "      <th>LONGITUDE</th>\n",
              "      <th>FIRE_YEAR</th>\n",
              "      <th>FIRE_SIZE</th>\n",
              "      <th>FIRE_SIZE_CLASS</th>\n",
              "    </tr>\n",
              "  </thead>\n",
              "  <tbody>\n",
              "    <tr>\n",
              "      <th>0</th>\n",
              "      <td>1</td>\n",
              "      <td>CA</td>\n",
              "      <td>40.036944</td>\n",
              "      <td>-121.005833</td>\n",
              "      <td>2005</td>\n",
              "      <td>0.10</td>\n",
              "      <td>A</td>\n",
              "    </tr>\n",
              "    <tr>\n",
              "      <th>1</th>\n",
              "      <td>2</td>\n",
              "      <td>CA</td>\n",
              "      <td>38.933056</td>\n",
              "      <td>-120.404444</td>\n",
              "      <td>2004</td>\n",
              "      <td>0.25</td>\n",
              "      <td>A</td>\n",
              "    </tr>\n",
              "    <tr>\n",
              "      <th>2</th>\n",
              "      <td>3</td>\n",
              "      <td>CA</td>\n",
              "      <td>38.984167</td>\n",
              "      <td>-120.735556</td>\n",
              "      <td>2004</td>\n",
              "      <td>0.10</td>\n",
              "      <td>A</td>\n",
              "    </tr>\n",
              "    <tr>\n",
              "      <th>3</th>\n",
              "      <td>4</td>\n",
              "      <td>CA</td>\n",
              "      <td>38.559167</td>\n",
              "      <td>-119.913333</td>\n",
              "      <td>2004</td>\n",
              "      <td>0.10</td>\n",
              "      <td>A</td>\n",
              "    </tr>\n",
              "    <tr>\n",
              "      <th>4</th>\n",
              "      <td>5</td>\n",
              "      <td>CA</td>\n",
              "      <td>38.559167</td>\n",
              "      <td>-119.933056</td>\n",
              "      <td>2004</td>\n",
              "      <td>0.10</td>\n",
              "      <td>A</td>\n",
              "    </tr>\n",
              "    <tr>\n",
              "      <th>...</th>\n",
              "      <td>...</td>\n",
              "      <td>...</td>\n",
              "      <td>...</td>\n",
              "      <td>...</td>\n",
              "      <td>...</td>\n",
              "      <td>...</td>\n",
              "      <td>...</td>\n",
              "    </tr>\n",
              "    <tr>\n",
              "      <th>1880460</th>\n",
              "      <td>1880461</td>\n",
              "      <td>CA</td>\n",
              "      <td>40.481637</td>\n",
              "      <td>-122.389375</td>\n",
              "      <td>2015</td>\n",
              "      <td>0.01</td>\n",
              "      <td>A</td>\n",
              "    </tr>\n",
              "    <tr>\n",
              "      <th>1880461</th>\n",
              "      <td>1880462</td>\n",
              "      <td>CA</td>\n",
              "      <td>37.617619</td>\n",
              "      <td>-120.938570</td>\n",
              "      <td>2015</td>\n",
              "      <td>0.20</td>\n",
              "      <td>A</td>\n",
              "    </tr>\n",
              "    <tr>\n",
              "      <th>1880462</th>\n",
              "      <td>1880463</td>\n",
              "      <td>CA</td>\n",
              "      <td>37.617619</td>\n",
              "      <td>-120.938570</td>\n",
              "      <td>2015</td>\n",
              "      <td>0.10</td>\n",
              "      <td>A</td>\n",
              "    </tr>\n",
              "    <tr>\n",
              "      <th>1880463</th>\n",
              "      <td>1880464</td>\n",
              "      <td>CA</td>\n",
              "      <td>37.672235</td>\n",
              "      <td>-120.898356</td>\n",
              "      <td>2015</td>\n",
              "      <td>2.00</td>\n",
              "      <td>B</td>\n",
              "    </tr>\n",
              "    <tr>\n",
              "      <th>1880464</th>\n",
              "      <td>1880465</td>\n",
              "      <td>CA</td>\n",
              "      <td>34.263217</td>\n",
              "      <td>-116.830950</td>\n",
              "      <td>2015</td>\n",
              "      <td>0.10</td>\n",
              "      <td>A</td>\n",
              "    </tr>\n",
              "  </tbody>\n",
              "</table>\n",
              "<p>1880465 rows × 7 columns</p>\n",
              "</div>"
            ],
            "text/plain": [
              "         OBJECTID state   LATITUDE  ...  FIRE_YEAR  FIRE_SIZE  FIRE_SIZE_CLASS\n",
              "0               1    CA  40.036944  ...       2005       0.10                A\n",
              "1               2    CA  38.933056  ...       2004       0.25                A\n",
              "2               3    CA  38.984167  ...       2004       0.10                A\n",
              "3               4    CA  38.559167  ...       2004       0.10                A\n",
              "4               5    CA  38.559167  ...       2004       0.10                A\n",
              "...           ...   ...        ...  ...        ...        ...              ...\n",
              "1880460   1880461    CA  40.481637  ...       2015       0.01                A\n",
              "1880461   1880462    CA  37.617619  ...       2015       0.20                A\n",
              "1880462   1880463    CA  37.617619  ...       2015       0.10                A\n",
              "1880463   1880464    CA  37.672235  ...       2015       2.00                B\n",
              "1880464   1880465    CA  34.263217  ...       2015       0.10                A\n",
              "\n",
              "[1880465 rows x 7 columns]"
            ]
          },
          "metadata": {
            "tags": []
          },
          "execution_count": 98
        }
      ]
    },
    {
      "cell_type": "markdown",
      "metadata": {
        "id": "0wTpqyMCAcpd"
      },
      "source": [
        "**Importing Shapefiles**\n",
        "\n",
        "We have provided a shapefile for urban areas in the United States. Shapefiles combine spatial representations of data points combined with an attribute table where each row contains data on a particular data point. GeoPandas converts this into a geodataframe, which is similar to an ordinary dataframe, but contains an extra column, `geometry`, that contains the spatial representation of that data point. Here, we read the urban areas shapefile with `geopandas.read_file()` into a geodataframe called `urban_areas`."
      ]
    },
    {
      "cell_type": "code",
      "metadata": {
        "id": "--b1msZWBLFg",
        "colab": {
          "base_uri": "https://localhost:8080/",
          "height": 415
        },
        "outputId": "b624a9fc-87e8-45aa-9867-30b66bab847d"
      },
      "source": [
        "# shapefile containing boundaries of urban areas, as well as information about them\n",
        "urban_areas = gpd.read_file(\"cb_2018_us_ua10_500k.shp\")\n",
        "urban_areas"
      ],
      "execution_count": 111,
      "outputs": [
        {
          "output_type": "execute_result",
          "data": {
            "text/html": [
              "<div>\n",
              "<style scoped>\n",
              "    .dataframe tbody tr th:only-of-type {\n",
              "        vertical-align: middle;\n",
              "    }\n",
              "\n",
              "    .dataframe tbody tr th {\n",
              "        vertical-align: top;\n",
              "    }\n",
              "\n",
              "    .dataframe thead th {\n",
              "        text-align: right;\n",
              "    }\n",
              "</style>\n",
              "<table border=\"1\" class=\"dataframe\">\n",
              "  <thead>\n",
              "    <tr style=\"text-align: right;\">\n",
              "      <th></th>\n",
              "      <th>UACE10</th>\n",
              "      <th>AFFGEOID10</th>\n",
              "      <th>GEOID10</th>\n",
              "      <th>NAME10</th>\n",
              "      <th>LSAD10</th>\n",
              "      <th>UATYP10</th>\n",
              "      <th>ALAND10</th>\n",
              "      <th>AWATER10</th>\n",
              "      <th>geometry</th>\n",
              "    </tr>\n",
              "  </thead>\n",
              "  <tbody>\n",
              "    <tr>\n",
              "      <th>0</th>\n",
              "      <td>88732</td>\n",
              "      <td>400C100US88732</td>\n",
              "      <td>88732</td>\n",
              "      <td>Tucson, AZ</td>\n",
              "      <td>75</td>\n",
              "      <td>U</td>\n",
              "      <td>915276150</td>\n",
              "      <td>2078695</td>\n",
              "      <td>MULTIPOLYGON (((-110.81345 32.11910, -110.7987...</td>\n",
              "    </tr>\n",
              "    <tr>\n",
              "      <th>1</th>\n",
              "      <td>01819</td>\n",
              "      <td>400C100US01819</td>\n",
              "      <td>01819</td>\n",
              "      <td>Alturas, CA</td>\n",
              "      <td>76</td>\n",
              "      <td>C</td>\n",
              "      <td>4933312</td>\n",
              "      <td>16517</td>\n",
              "      <td>MULTIPOLYGON (((-120.54610 41.51264, -120.5459...</td>\n",
              "    </tr>\n",
              "    <tr>\n",
              "      <th>2</th>\n",
              "      <td>22366</td>\n",
              "      <td>400C100US22366</td>\n",
              "      <td>22366</td>\n",
              "      <td>Davenport, IA--IL</td>\n",
              "      <td>75</td>\n",
              "      <td>U</td>\n",
              "      <td>357345121</td>\n",
              "      <td>21444164</td>\n",
              "      <td>MULTIPOLYGON (((-90.36678 41.53636, -90.36462 ...</td>\n",
              "    </tr>\n",
              "    <tr>\n",
              "      <th>3</th>\n",
              "      <td>93322</td>\n",
              "      <td>400C100US93322</td>\n",
              "      <td>93322</td>\n",
              "      <td>Waynesboro, PA--MD</td>\n",
              "      <td>76</td>\n",
              "      <td>C</td>\n",
              "      <td>45455957</td>\n",
              "      <td>88872</td>\n",
              "      <td>MULTIPOLYGON (((-77.50746 39.71577, -77.50605 ...</td>\n",
              "    </tr>\n",
              "    <tr>\n",
              "      <th>4</th>\n",
              "      <td>02548</td>\n",
              "      <td>400C100US02548</td>\n",
              "      <td>02548</td>\n",
              "      <td>Angola, IN</td>\n",
              "      <td>76</td>\n",
              "      <td>C</td>\n",
              "      <td>23646957</td>\n",
              "      <td>3913803</td>\n",
              "      <td>MULTIPOLYGON (((-85.01157 41.59300, -85.00589 ...</td>\n",
              "    </tr>\n",
              "    <tr>\n",
              "      <th>...</th>\n",
              "      <td>...</td>\n",
              "      <td>...</td>\n",
              "      <td>...</td>\n",
              "      <td>...</td>\n",
              "      <td>...</td>\n",
              "      <td>...</td>\n",
              "      <td>...</td>\n",
              "      <td>...</td>\n",
              "      <td>...</td>\n",
              "    </tr>\n",
              "    <tr>\n",
              "      <th>3596</th>\n",
              "      <td>57395</td>\n",
              "      <td>400C100US57395</td>\n",
              "      <td>57395</td>\n",
              "      <td>Milton, DE</td>\n",
              "      <td>76</td>\n",
              "      <td>C</td>\n",
              "      <td>3147288</td>\n",
              "      <td>167254</td>\n",
              "      <td>POLYGON ((-75.32719 38.77206, -75.31976 38.776...</td>\n",
              "    </tr>\n",
              "    <tr>\n",
              "      <th>3597</th>\n",
              "      <td>85390</td>\n",
              "      <td>400C100US85390</td>\n",
              "      <td>85390</td>\n",
              "      <td>Sugarmill Woods, FL</td>\n",
              "      <td>76</td>\n",
              "      <td>C</td>\n",
              "      <td>27203875</td>\n",
              "      <td>0</td>\n",
              "      <td>MULTIPOLYGON (((-82.51716 28.75400, -82.51339 ...</td>\n",
              "    </tr>\n",
              "    <tr>\n",
              "      <th>3598</th>\n",
              "      <td>46639</td>\n",
              "      <td>400C100US46639</td>\n",
              "      <td>46639</td>\n",
              "      <td>Lake Conroe Eastshore, TX</td>\n",
              "      <td>76</td>\n",
              "      <td>C</td>\n",
              "      <td>18747170</td>\n",
              "      <td>63639</td>\n",
              "      <td>MULTIPOLYGON (((-95.57872 30.40884, -95.57692 ...</td>\n",
              "    </tr>\n",
              "    <tr>\n",
              "      <th>3599</th>\n",
              "      <td>15886</td>\n",
              "      <td>400C100US15886</td>\n",
              "      <td>15886</td>\n",
              "      <td>Checotah, OK</td>\n",
              "      <td>76</td>\n",
              "      <td>C</td>\n",
              "      <td>3259478</td>\n",
              "      <td>0</td>\n",
              "      <td>POLYGON ((-95.53799 35.47168, -95.53998 35.472...</td>\n",
              "    </tr>\n",
              "    <tr>\n",
              "      <th>3600</th>\n",
              "      <td>22933</td>\n",
              "      <td>400C100US22933</td>\n",
              "      <td>22933</td>\n",
              "      <td>De Funiak Springs, FL</td>\n",
              "      <td>76</td>\n",
              "      <td>C</td>\n",
              "      <td>17563989</td>\n",
              "      <td>691086</td>\n",
              "      <td>MULTIPOLYGON (((-86.13076 30.75629, -86.12938 ...</td>\n",
              "    </tr>\n",
              "  </tbody>\n",
              "</table>\n",
              "<p>3601 rows × 9 columns</p>\n",
              "</div>"
            ],
            "text/plain": [
              "     UACE10  ...                                           geometry\n",
              "0     88732  ...  MULTIPOLYGON (((-110.81345 32.11910, -110.7987...\n",
              "1     01819  ...  MULTIPOLYGON (((-120.54610 41.51264, -120.5459...\n",
              "2     22366  ...  MULTIPOLYGON (((-90.36678 41.53636, -90.36462 ...\n",
              "3     93322  ...  MULTIPOLYGON (((-77.50746 39.71577, -77.50605 ...\n",
              "4     02548  ...  MULTIPOLYGON (((-85.01157 41.59300, -85.00589 ...\n",
              "...     ...  ...                                                ...\n",
              "3596  57395  ...  POLYGON ((-75.32719 38.77206, -75.31976 38.776...\n",
              "3597  85390  ...  MULTIPOLYGON (((-82.51716 28.75400, -82.51339 ...\n",
              "3598  46639  ...  MULTIPOLYGON (((-95.57872 30.40884, -95.57692 ...\n",
              "3599  15886  ...  POLYGON ((-95.53799 35.47168, -95.53998 35.472...\n",
              "3600  22933  ...  MULTIPOLYGON (((-86.13076 30.75629, -86.12938 ...\n",
              "\n",
              "[3601 rows x 9 columns]"
            ]
          },
          "metadata": {
            "tags": []
          },
          "execution_count": 111
        }
      ]
    },
    {
      "cell_type": "markdown",
      "metadata": {
        "id": "9FEx9TugcHYf"
      },
      "source": [
        "As you can see below, each row in the `urban_areas` geodataframe contains data and the shape for a particular urban area. Here, we illustrate this with a map of the Ithaca urban area, as well as the New York urban area"
      ]
    },
    {
      "cell_type": "code",
      "metadata": {
        "id": "XAwze--JaJTT",
        "colab": {
          "base_uri": "https://localhost:8080/",
          "height": 357
        },
        "outputId": "810ef860-c6dd-43bd-fefa-110aeb12fde3"
      },
      "source": [
        "# plotting the Ithaca and New York urban areas\n",
        "# plotting them as side-by-side subplots, with different titles\n",
        "fig, (ax1, ax2) = plt.subplots(ncols=2, figsize=(10,5))\n",
        "ax1.set_aspect('equal', adjustable='datalim')\n",
        "ax2.set_aspect('equal', adjustable='datalim')\n",
        "ax1.set_title(\"Ithaca Urban Area\")\n",
        "ax2.set_title(\"New York Urban Area\")\n",
        "urban_areas.loc[urban_areas[\"NAME10\"] == \"Ithaca, NY\"].plot(ax=ax1)\n",
        "urban_areas.loc[urban_areas[\"NAME10\"] == \"New York--Newark, NY--NJ--CT\"].plot(ax=ax2)"
      ],
      "execution_count": 100,
      "outputs": [
        {
          "output_type": "execute_result",
          "data": {
            "text/plain": [
              "<matplotlib.axes._subplots.AxesSubplot at 0x7f2b0e15e590>"
            ]
          },
          "metadata": {
            "tags": []
          },
          "execution_count": 100
        },
        {
          "output_type": "display_data",
          "data": {
            "image/png": "[encoded data removed]",
            "text/plain": [
              "<Figure size 720x360 with 2 Axes>"
            ]
          },
          "metadata": {
            "tags": [],
            "needs_background": "light"
          }
        }
      ]
    },
    {
      "cell_type": "markdown",
      "metadata": {
        "id": "D5SSWLzRAce0"
      },
      "source": [
        "**Converting Dataframes to Geodataframes**\n",
        "\n",
        "In order to use spatial operations on existing spatial data that we have in a Pandas dataframe, we need to convert the dataframe into a geodataframe. Use `geopandas.GeoDataFrame()` to convert `df` into a geodataframe, `df_geo`. \n",
        "\n",
        "Here, we use `geopandas.GeoDataFrame()` to set the longitude and latitude columns of the original dataframe to be the `geometry` field of the corresponding geodataframe. Note: `geopandas.points_from_xy()` should be used here to convert longitude and latitude (corresponding to x and y, respectively) into a form that can be used by `geopandas.GeoDataFrame()`."
      ]
    },
    {
      "cell_type": "code",
      "metadata": {
        "id": "xsbleWvEBSOv",
        "colab": {
          "base_uri": "https://localhost:8080/",
          "height": 415
        },
        "outputId": "3e3052b9-5781-4113-e458-1de19af3a219"
      },
      "source": [
        "df_geo = gpd.GeoDataFrame(df, geometry=gpd.points_from_xy(df.LONGITUDE, df.LATITUDE))\n",
        "df_geo"
      ],
      "execution_count": 101,
      "outputs": [
        {
          "output_type": "execute_result",
          "data": {
            "text/html": [
              "<div>\n",
              "<style scoped>\n",
              "    .dataframe tbody tr th:only-of-type {\n",
              "        vertical-align: middle;\n",
              "    }\n",
              "\n",
              "    .dataframe tbody tr th {\n",
              "        vertical-align: top;\n",
              "    }\n",
              "\n",
              "    .dataframe thead th {\n",
              "        text-align: right;\n",
              "    }\n",
              "</style>\n",
              "<table border=\"1\" class=\"dataframe\">\n",
              "  <thead>\n",
              "    <tr style=\"text-align: right;\">\n",
              "      <th></th>\n",
              "      <th>OBJECTID</th>\n",
              "      <th>state</th>\n",
              "      <th>LATITUDE</th>\n",
              "      <th>LONGITUDE</th>\n",
              "      <th>FIRE_YEAR</th>\n",
              "      <th>FIRE_SIZE</th>\n",
              "      <th>FIRE_SIZE_CLASS</th>\n",
              "      <th>geometry</th>\n",
              "    </tr>\n",
              "  </thead>\n",
              "  <tbody>\n",
              "    <tr>\n",
              "      <th>0</th>\n",
              "      <td>1</td>\n",
              "      <td>CA</td>\n",
              "      <td>40.036944</td>\n",
              "      <td>-121.005833</td>\n",
              "      <td>2005</td>\n",
              "      <td>0.10</td>\n",
              "      <td>A</td>\n",
              "      <td>POINT (-121.00583 40.03694)</td>\n",
              "    </tr>\n",
              "    <tr>\n",
              "      <th>1</th>\n",
              "      <td>2</td>\n",
              "      <td>CA</td>\n",
              "      <td>38.933056</td>\n",
              "      <td>-120.404444</td>\n",
              "      <td>2004</td>\n",
              "      <td>0.25</td>\n",
              "      <td>A</td>\n",
              "      <td>POINT (-120.40444 38.93306)</td>\n",
              "    </tr>\n",
              "    <tr>\n",
              "      <th>2</th>\n",
              "      <td>3</td>\n",
              "      <td>CA</td>\n",
              "      <td>38.984167</td>\n",
              "      <td>-120.735556</td>\n",
              "      <td>2004</td>\n",
              "      <td>0.10</td>\n",
              "      <td>A</td>\n",
              "      <td>POINT (-120.73556 38.98417)</td>\n",
              "    </tr>\n",
              "    <tr>\n",
              "      <th>3</th>\n",
              "      <td>4</td>\n",
              "      <td>CA</td>\n",
              "      <td>38.559167</td>\n",
              "      <td>-119.913333</td>\n",
              "      <td>2004</td>\n",
              "      <td>0.10</td>\n",
              "      <td>A</td>\n",
              "      <td>POINT (-119.91333 38.55917)</td>\n",
              "    </tr>\n",
              "    <tr>\n",
              "      <th>4</th>\n",
              "      <td>5</td>\n",
              "      <td>CA</td>\n",
              "      <td>38.559167</td>\n",
              "      <td>-119.933056</td>\n",
              "      <td>2004</td>\n",
              "      <td>0.10</td>\n",
              "      <td>A</td>\n",
              "      <td>POINT (-119.93306 38.55917)</td>\n",
              "    </tr>\n",
              "    <tr>\n",
              "      <th>...</th>\n",
              "      <td>...</td>\n",
              "      <td>...</td>\n",
              "      <td>...</td>\n",
              "      <td>...</td>\n",
              "      <td>...</td>\n",
              "      <td>...</td>\n",
              "      <td>...</td>\n",
              "      <td>...</td>\n",
              "    </tr>\n",
              "    <tr>\n",
              "      <th>1880460</th>\n",
              "      <td>1880461</td>\n",
              "      <td>CA</td>\n",
              "      <td>40.481637</td>\n",
              "      <td>-122.389375</td>\n",
              "      <td>2015</td>\n",
              "      <td>0.01</td>\n",
              "      <td>A</td>\n",
              "      <td>POINT (-122.38938 40.48164)</td>\n",
              "    </tr>\n",
              "    <tr>\n",
              "      <th>1880461</th>\n",
              "      <td>1880462</td>\n",
              "      <td>CA</td>\n",
              "      <td>37.617619</td>\n",
              "      <td>-120.938570</td>\n",
              "      <td>2015</td>\n",
              "      <td>0.20</td>\n",
              "      <td>A</td>\n",
              "      <td>POINT (-120.93857 37.61762)</td>\n",
              "    </tr>\n",
              "    <tr>\n",
              "      <th>1880462</th>\n",
              "      <td>1880463</td>\n",
              "      <td>CA</td>\n",
              "      <td>37.617619</td>\n",
              "      <td>-120.938570</td>\n",
              "      <td>2015</td>\n",
              "      <td>0.10</td>\n",
              "      <td>A</td>\n",
              "      <td>POINT (-120.93857 37.61762)</td>\n",
              "    </tr>\n",
              "    <tr>\n",
              "      <th>1880463</th>\n",
              "      <td>1880464</td>\n",
              "      <td>CA</td>\n",
              "      <td>37.672235</td>\n",
              "      <td>-120.898356</td>\n",
              "      <td>2015</td>\n",
              "      <td>2.00</td>\n",
              "      <td>B</td>\n",
              "      <td>POINT (-120.89836 37.67223)</td>\n",
              "    </tr>\n",
              "    <tr>\n",
              "      <th>1880464</th>\n",
              "      <td>1880465</td>\n",
              "      <td>CA</td>\n",
              "      <td>34.263217</td>\n",
              "      <td>-116.830950</td>\n",
              "      <td>2015</td>\n",
              "      <td>0.10</td>\n",
              "      <td>A</td>\n",
              "      <td>POINT (-116.83095 34.26322)</td>\n",
              "    </tr>\n",
              "  </tbody>\n",
              "</table>\n",
              "<p>1880465 rows × 8 columns</p>\n",
              "</div>"
            ],
            "text/plain": [
              "         OBJECTID state  ...  FIRE_SIZE_CLASS                     geometry\n",
              "0               1    CA  ...                A  POINT (-121.00583 40.03694)\n",
              "1               2    CA  ...                A  POINT (-120.40444 38.93306)\n",
              "2               3    CA  ...                A  POINT (-120.73556 38.98417)\n",
              "3               4    CA  ...                A  POINT (-119.91333 38.55917)\n",
              "4               5    CA  ...                A  POINT (-119.93306 38.55917)\n",
              "...           ...   ...  ...              ...                          ...\n",
              "1880460   1880461    CA  ...                A  POINT (-122.38938 40.48164)\n",
              "1880461   1880462    CA  ...                A  POINT (-120.93857 37.61762)\n",
              "1880462   1880463    CA  ...                A  POINT (-120.93857 37.61762)\n",
              "1880463   1880464    CA  ...                B  POINT (-120.89836 37.67223)\n",
              "1880464   1880465    CA  ...                A  POINT (-116.83095 34.26322)\n",
              "\n",
              "[1880465 rows x 8 columns]"
            ]
          },
          "metadata": {
            "tags": []
          },
          "execution_count": 101
        }
      ]
    },
    {
      "cell_type": "markdown",
      "metadata": {
        "id": "3gvOgSokBXmv"
      },
      "source": [
        "**Projections**\n",
        "\n",
        "Spatial data is generally found in a particular projection - its projection determines what coordinate system the data represents (for instance, Latitude/Longitude, meters, feet, etc.), as well as how the data will be plotted on maps and visualizations. We won't go into much detail about projections, but be aware that you should generally use the same projection across data that you want to do spatial operations together on.\n",
        "\n",
        "Notice how the shape of North America in the maps below are distorted in despite ways depending on the projection, despite representing the same underlying shape."
      ]
    },
    {
      "cell_type": "code",
      "metadata": {
        "id": "Aeb-kmrbkYTZ",
        "colab": {
          "base_uri": "https://localhost:8080/",
          "height": 373
        },
        "outputId": "49d02efe-2cd5-4e63-98c5-e9067330bf6f"
      },
      "source": [
        "# reading a shapefile containing countries of the world in (included by default with GeoPandas)\n",
        "world = gpd.read_file(gpd.datasets.get_path('naturalearth_lowres'))\n",
        "# filtering out countries outside of North America\n",
        "n_america = gpd.read_file(gpd.datasets.get_path('naturalearth_lowres')).loc[world[\"continent\"] == \"North America\"]\n",
        "# setting datasets with different projections\n",
        "n_america_mercator = n_america.to_crs(epsg=3857)\n",
        "n_america_eq_area_albers = n_america.to_crs(epsg=5070)\n",
        "\n",
        "# plotting the three differently-projected versions of the data side-by-side, with different titles\n",
        "fig, (ax1, ax2, ax3) = plt.subplots(ncols=3, figsize=(15,5))\n",
        "ax1.set_aspect('equal', adjustable='datalim')\n",
        "ax2.set_aspect('equal', adjustable='datalim')\n",
        "ax3.set_aspect('equal', adjustable='datalim')\n",
        "ax1.set_title(\"WGS 84\")\n",
        "ax2.set_title(\"Mercator\")\n",
        "ax3.set_title(\"Equal Area Conus Albers\")\n",
        "n_america.plot(ax=ax1, aspect=\"auto\")\n",
        "n_america_mercator.plot(ax=ax2, aspect=\"auto\")\n",
        "n_america_eq_area_albers.plot(ax=ax3, aspect=\"auto\")"
      ],
      "execution_count": 102,
      "outputs": [
        {
          "output_type": "execute_result",
          "data": {
            "text/plain": [
              "<matplotlib.axes._subplots.AxesSubplot at 0x7f2b0d305d90>"
            ]
          },
          "metadata": {
            "tags": []
          },
          "execution_count": 102
        },
        {
          "output_type": "display_data",
          "data": {
            "image/png": "[encoded data removed]",
            "text/plain": [
              "<Figure size 1080x360 with 3 Axes>"
            ]
          },
          "metadata": {
            "tags": [],
            "needs_background": "light"
          }
        }
      ]
    },
    {
      "cell_type": "markdown",
      "metadata": {
        "id": "tL6ZcavnhLiH"
      },
      "source": [
        "**Question #10:** Why would you need to ensure that the projection is the same across all the data that you use? (Hint: look at the coordinates of the axes)"
      ]
    },
    {
      "cell_type": "markdown",
      "metadata": {
        "id": "ZRHLkFvBlm94"
      },
      "source": [
        "*\\#because different projections might distort the view and affect our judgement*"
      ]
    },
    {
      "cell_type": "markdown",
      "metadata": {
        "id": "EwQ4k4molonR"
      },
      "source": [
        "The urban areas dataframe already has a projection (use `your_geodataframe.crs` to see)."
      ]
    },
    {
      "cell_type": "code",
      "metadata": {
        "id": "JM-rbes8eazz",
        "colab": {
          "base_uri": "https://localhost:8080/"
        },
        "outputId": "68ee537e-9958-4754-d816-940b6949af14"
      },
      "source": [
        "print(urban_areas.crs)"
      ],
      "execution_count": 112,
      "outputs": [
        {
          "output_type": "stream",
          "text": [
            "epsg:4269\n"
          ],
          "name": "stdout"
        }
      ]
    },
    {
      "cell_type": "code",
      "metadata": {
        "colab": {
          "base_uri": "https://localhost:8080/"
        },
        "id": "pyhMZQqmAzW9",
        "outputId": "7cd18c8d-0b01-47fd-b71c-7834deb48390"
      },
      "source": [
        "urban_areas.crs"
      ],
      "execution_count": 113,
      "outputs": [
        {
          "output_type": "execute_result",
          "data": {
            "text/plain": [
              "<Geographic 2D CRS: EPSG:4269>\n",
              "Name: NAD83\n",
              "Axis Info [ellipsoidal]:\n",
              "- Lat[north]: Geodetic latitude (degree)\n",
              "- Lon[east]: Geodetic longitude (degree)\n",
              "Area of Use:\n",
              "- name: North America - onshore and offshore: Canada - Alberta; British Columbia; Manitoba; New Brunswick; Newfoundland and Labrador; Northwest Territories; Nova Scotia; Nunavut; Ontario; Prince Edward Island; Quebec; Saskatchewan; Yukon. Puerto Rico. United States (USA) - Alabama; Alaska; Arizona; Arkansas; California; Colorado; Connecticut; Delaware; Florida; Georgia; Hawaii; Idaho; Illinois; Indiana; Iowa; Kansas; Kentucky; Louisiana; Maine; Maryland; Massachusetts; Michigan; Minnesota; Mississippi; Missouri; Montana; Nebraska; Nevada; New Hampshire; New Jersey; New Mexico; New York; North Carolina; North Dakota; Ohio; Oklahoma; Oregon; Pennsylvania; Rhode Island; South Carolina; South Dakota; Tennessee; Texas; Utah; Vermont; Virginia; Washington; West Virginia; Wisconsin; Wyoming. US Virgin Islands.  British Virgin Islands.\n",
              "- bounds: (167.65, 14.92, -47.74, 86.46)\n",
              "Datum: North American Datum 1983\n",
              "- Ellipsoid: GRS 1980\n",
              "- Prime Meridian: Greenwich"
            ]
          },
          "metadata": {
            "tags": []
          },
          "execution_count": 113
        }
      ]
    },
    {
      "cell_type": "markdown",
      "metadata": {
        "id": "VM2NuOQgl43V"
      },
      "source": [
        "**Question #11:** What projection did the urban areas shapefile originally have?"
      ]
    },
    {
      "cell_type": "markdown",
      "metadata": {
        "id": "7ZiGwVEzmGg8"
      },
      "source": [
        "*\\#NAD83*"
      ]
    },
    {
      "cell_type": "markdown",
      "metadata": {
        "id": "0OG61iV8c49q"
      },
      "source": [
        "Let's convert it to the standard \"WGS 84\" projection. Use `your_geodataframe.to_crs()` to change the projection, and be sure to save the result to a variable, as the changed geodataframe will not automatically modify the original dataframe.\n",
        "\n",
        "The EPSG code (a standard method to refer to projections in GeoPandas and elsewhere) for WGS 84 is *4326*"
      ]
    },
    {
      "cell_type": "code",
      "metadata": {
        "id": "VT3obk1nBUu9",
        "colab": {
          "base_uri": "https://localhost:8080/"
        },
        "outputId": "dce32343-8123-4878-bdb3-b18c65d73043"
      },
      "source": [
        "urban_areas = urban_areas.to_crs(epsg=4326)\n",
        "print(urban_areas.crs)"
      ],
      "execution_count": 108,
      "outputs": [
        {
          "output_type": "stream",
          "text": [
            "epsg:4326\n"
          ],
          "name": "stdout"
        }
      ]
    },
    {
      "cell_type": "markdown",
      "metadata": {
        "id": "4wAyAA9sBbsf"
      },
      "source": [
        "On the other hand, the geodataframe from our original wildfire dataset doesn't have a projection at all, since we derived X and Y from longitude and latitude (as opposed to pulling it from a shapefile that was already projected). We'll have to add a projection to the geodataframe by using `set_crs()` instead.\n",
        "\n",
        "This time, we use `your_geodataframe.set_crs()`, and set it to be WGS 84 (EPSG: 4326) as well, since that projection also uses longitude and latitude as units."
      ]
    },
    {
      "cell_type": "code",
      "metadata": {
        "id": "dP81vipUBehp",
        "colab": {
          "base_uri": "https://localhost:8080/"
        },
        "outputId": "b4997a93-0d9a-4d1a-c205-0135e3345a91"
      },
      "source": [
        "print(df_geo.crs)\n",
        "df_geo = df_geo.set_crs(epsg=4326)\n",
        "print(df_geo.crs)"
      ],
      "execution_count": 114,
      "outputs": [
        {
          "output_type": "stream",
          "text": [
            "None\n",
            "epsg:4326\n"
          ],
          "name": "stdout"
        }
      ]
    },
    {
      "cell_type": "markdown",
      "metadata": {
        "id": "Q3CxsLziBlR5"
      },
      "source": [
        "**Spatial Joins**\n",
        "\n",
        "Spatial joins act similarly to the joins we've used before, but they use spatial operators to determine how to join two dataset.\n",
        "\n",
        "Instead of operators such as `>`, `<` and `=`, spatial joins have a different set of operators.\n",
        "- intersects (left hand shape at least partially intersects with right hand shape)\n",
        "- contains (right hand shape entirely falls within left hand shape)\n",
        "- within (left hand shape entirely falls within right hand shape)\n",
        "- touches (if shapes touch at a point but don't intersect beyond that)\n",
        "- crosses (if the dimension of the intersection is less than the dimension of the one or the other, e.g. line intersecting a polygon)\n",
        "- overlaps (if shapes intersect, but not entirely for either shape)\n",
        "\n",
        "Here, we use `gpd.sjoin()` to keep only the rows of the wildfire geodataframe whose point locations are inside of (i.e. intersects) urban areas."
      ]
    },
    {
      "cell_type": "code",
      "metadata": {
        "id": "MPMo3l1vBgIH",
        "colab": {
          "base_uri": "https://localhost:8080/",
          "height": 990
        },
        "outputId": "a214af19-ce37-45a5-b066-8f1623ffbbb6"
      },
      "source": [
        "# inner joining urban areas to df_geo, based the urban area that each fire's point location intersects\n",
        "df_geo_join_urban = gpd.sjoin(df_geo, urban_areas, how=\"inner\", op='intersects')\n",
        "df_geo_join_urban"
      ],
      "execution_count": 115,
      "outputs": [
        {
          "output_type": "stream",
          "text": [
            "/usr/local/lib/python3.7/dist-packages/ipykernel_launcher.py:2: UserWarning: CRS mismatch between the CRS of left geometries and the CRS of right geometries.\n",
            "Use `to_crs()` to reproject one of the input geometries to match the CRS of the other.\n",
            "\n",
            "Left CRS: EPSG:4326\n",
            "Right CRS: EPSG:4269\n",
            "\n",
            "  \n"
          ],
          "name": "stderr"
        },
        {
          "output_type": "execute_result",
          "data": {
            "text/html": [
              "<div>\n",
              "<style scoped>\n",
              "    .dataframe tbody tr th:only-of-type {\n",
              "        vertical-align: middle;\n",
              "    }\n",
              "\n",
              "    .dataframe tbody tr th {\n",
              "        vertical-align: top;\n",
              "    }\n",
              "\n",
              "    .dataframe thead th {\n",
              "        text-align: right;\n",
              "    }\n",
              "</style>\n",
              "<table border=\"1\" class=\"dataframe\">\n",
              "  <thead>\n",
              "    <tr style=\"text-align: right;\">\n",
              "      <th></th>\n",
              "      <th>OBJECTID</th>\n",
              "      <th>state</th>\n",
              "      <th>LATITUDE</th>\n",
              "      <th>LONGITUDE</th>\n",
              "      <th>FIRE_YEAR</th>\n",
              "      <th>FIRE_SIZE</th>\n",
              "      <th>FIRE_SIZE_CLASS</th>\n",
              "      <th>geometry</th>\n",
              "      <th>index_right</th>\n",
              "      <th>UACE10</th>\n",
              "      <th>AFFGEOID10</th>\n",
              "      <th>GEOID10</th>\n",
              "      <th>NAME10</th>\n",
              "      <th>LSAD10</th>\n",
              "      <th>UATYP10</th>\n",
              "      <th>ALAND10</th>\n",
              "      <th>AWATER10</th>\n",
              "    </tr>\n",
              "  </thead>\n",
              "  <tbody>\n",
              "    <tr>\n",
              "      <th>109</th>\n",
              "      <td>110</td>\n",
              "      <td>CA</td>\n",
              "      <td>33.718889</td>\n",
              "      <td>-117.433611</td>\n",
              "      <td>2005</td>\n",
              "      <td>10.00</td>\n",
              "      <td>C</td>\n",
              "      <td>POINT (-117.43361 33.71889)</td>\n",
              "      <td>303</td>\n",
              "      <td>75340</td>\n",
              "      <td>400C100US75340</td>\n",
              "      <td>75340</td>\n",
              "      <td>Riverside--San Bernardino, CA</td>\n",
              "      <td>75</td>\n",
              "      <td>U</td>\n",
              "      <td>1412019715</td>\n",
              "      <td>7618764</td>\n",
              "    </tr>\n",
              "    <tr>\n",
              "      <th>11208</th>\n",
              "      <td>11209</td>\n",
              "      <td>CA</td>\n",
              "      <td>33.766389</td>\n",
              "      <td>-117.489167</td>\n",
              "      <td>2006</td>\n",
              "      <td>0.10</td>\n",
              "      <td>A</td>\n",
              "      <td>POINT (-117.48917 33.76639)</td>\n",
              "      <td>303</td>\n",
              "      <td>75340</td>\n",
              "      <td>400C100US75340</td>\n",
              "      <td>75340</td>\n",
              "      <td>Riverside--San Bernardino, CA</td>\n",
              "      <td>75</td>\n",
              "      <td>U</td>\n",
              "      <td>1412019715</td>\n",
              "      <td>7618764</td>\n",
              "    </tr>\n",
              "    <tr>\n",
              "      <th>11211</th>\n",
              "      <td>11212</td>\n",
              "      <td>CA</td>\n",
              "      <td>33.799722</td>\n",
              "      <td>-117.511111</td>\n",
              "      <td>2006</td>\n",
              "      <td>14.00</td>\n",
              "      <td>C</td>\n",
              "      <td>POINT (-117.51111 33.79972)</td>\n",
              "      <td>303</td>\n",
              "      <td>75340</td>\n",
              "      <td>400C100US75340</td>\n",
              "      <td>75340</td>\n",
              "      <td>Riverside--San Bernardino, CA</td>\n",
              "      <td>75</td>\n",
              "      <td>U</td>\n",
              "      <td>1412019715</td>\n",
              "      <td>7618764</td>\n",
              "    </tr>\n",
              "    <tr>\n",
              "      <th>12827</th>\n",
              "      <td>12828</td>\n",
              "      <td>CA</td>\n",
              "      <td>33.766389</td>\n",
              "      <td>-117.509444</td>\n",
              "      <td>2006</td>\n",
              "      <td>0.01</td>\n",
              "      <td>A</td>\n",
              "      <td>POINT (-117.50944 33.76639)</td>\n",
              "      <td>303</td>\n",
              "      <td>75340</td>\n",
              "      <td>400C100US75340</td>\n",
              "      <td>75340</td>\n",
              "      <td>Riverside--San Bernardino, CA</td>\n",
              "      <td>75</td>\n",
              "      <td>U</td>\n",
              "      <td>1412019715</td>\n",
              "      <td>7618764</td>\n",
              "    </tr>\n",
              "    <tr>\n",
              "      <th>13435</th>\n",
              "      <td>13436</td>\n",
              "      <td>CA</td>\n",
              "      <td>34.205000</td>\n",
              "      <td>-117.343889</td>\n",
              "      <td>2006</td>\n",
              "      <td>0.10</td>\n",
              "      <td>A</td>\n",
              "      <td>POINT (-117.34389 34.20500)</td>\n",
              "      <td>303</td>\n",
              "      <td>75340</td>\n",
              "      <td>400C100US75340</td>\n",
              "      <td>75340</td>\n",
              "      <td>Riverside--San Bernardino, CA</td>\n",
              "      <td>75</td>\n",
              "      <td>U</td>\n",
              "      <td>1412019715</td>\n",
              "      <td>7618764</td>\n",
              "    </tr>\n",
              "    <tr>\n",
              "      <th>...</th>\n",
              "      <td>...</td>\n",
              "      <td>...</td>\n",
              "      <td>...</td>\n",
              "      <td>...</td>\n",
              "      <td>...</td>\n",
              "      <td>...</td>\n",
              "      <td>...</td>\n",
              "      <td>...</td>\n",
              "      <td>...</td>\n",
              "      <td>...</td>\n",
              "      <td>...</td>\n",
              "      <td>...</td>\n",
              "      <td>...</td>\n",
              "      <td>...</td>\n",
              "      <td>...</td>\n",
              "      <td>...</td>\n",
              "      <td>...</td>\n",
              "    </tr>\n",
              "    <tr>\n",
              "      <th>1873317</th>\n",
              "      <td>1873318</td>\n",
              "      <td>CA</td>\n",
              "      <td>37.641838</td>\n",
              "      <td>-120.751417</td>\n",
              "      <td>2015</td>\n",
              "      <td>0.01</td>\n",
              "      <td>A</td>\n",
              "      <td>POINT (-120.75142 37.64184)</td>\n",
              "      <td>1075</td>\n",
              "      <td>92539</td>\n",
              "      <td>400C100US92539</td>\n",
              "      <td>92539</td>\n",
              "      <td>Waterford, CA</td>\n",
              "      <td>76</td>\n",
              "      <td>C</td>\n",
              "      <td>6643866</td>\n",
              "      <td>78956</td>\n",
              "    </tr>\n",
              "    <tr>\n",
              "      <th>1874149</th>\n",
              "      <td>1874150</td>\n",
              "      <td>CA</td>\n",
              "      <td>37.620347</td>\n",
              "      <td>-120.751081</td>\n",
              "      <td>2014</td>\n",
              "      <td>0.10</td>\n",
              "      <td>A</td>\n",
              "      <td>POINT (-120.75108 37.62035)</td>\n",
              "      <td>1075</td>\n",
              "      <td>92539</td>\n",
              "      <td>400C100US92539</td>\n",
              "      <td>92539</td>\n",
              "      <td>Waterford, CA</td>\n",
              "      <td>76</td>\n",
              "      <td>C</td>\n",
              "      <td>6643866</td>\n",
              "      <td>78956</td>\n",
              "    </tr>\n",
              "    <tr>\n",
              "      <th>1874819</th>\n",
              "      <td>1874820</td>\n",
              "      <td>CA</td>\n",
              "      <td>37.638504</td>\n",
              "      <td>-120.767089</td>\n",
              "      <td>2013</td>\n",
              "      <td>0.01</td>\n",
              "      <td>A</td>\n",
              "      <td>POINT (-120.76709 37.63850)</td>\n",
              "      <td>1075</td>\n",
              "      <td>92539</td>\n",
              "      <td>400C100US92539</td>\n",
              "      <td>92539</td>\n",
              "      <td>Waterford, CA</td>\n",
              "      <td>76</td>\n",
              "      <td>C</td>\n",
              "      <td>6643866</td>\n",
              "      <td>78956</td>\n",
              "    </tr>\n",
              "    <tr>\n",
              "      <th>1876786</th>\n",
              "      <td>1876787</td>\n",
              "      <td>CA</td>\n",
              "      <td>37.640995</td>\n",
              "      <td>-120.758510</td>\n",
              "      <td>2013</td>\n",
              "      <td>0.01</td>\n",
              "      <td>A</td>\n",
              "      <td>POINT (-120.75851 37.64100)</td>\n",
              "      <td>1075</td>\n",
              "      <td>92539</td>\n",
              "      <td>400C100US92539</td>\n",
              "      <td>92539</td>\n",
              "      <td>Waterford, CA</td>\n",
              "      <td>76</td>\n",
              "      <td>C</td>\n",
              "      <td>6643866</td>\n",
              "      <td>78956</td>\n",
              "    </tr>\n",
              "    <tr>\n",
              "      <th>1879339</th>\n",
              "      <td>1879340</td>\n",
              "      <td>CA</td>\n",
              "      <td>37.640446</td>\n",
              "      <td>-120.765066</td>\n",
              "      <td>2014</td>\n",
              "      <td>0.05</td>\n",
              "      <td>A</td>\n",
              "      <td>POINT (-120.76507 37.64045)</td>\n",
              "      <td>1075</td>\n",
              "      <td>92539</td>\n",
              "      <td>400C100US92539</td>\n",
              "      <td>92539</td>\n",
              "      <td>Waterford, CA</td>\n",
              "      <td>76</td>\n",
              "      <td>C</td>\n",
              "      <td>6643866</td>\n",
              "      <td>78956</td>\n",
              "    </tr>\n",
              "  </tbody>\n",
              "</table>\n",
              "<p>231535 rows × 17 columns</p>\n",
              "</div>"
            ],
            "text/plain": [
              "         OBJECTID state   LATITUDE  ...  UATYP10     ALAND10  AWATER10\n",
              "109           110    CA  33.718889  ...        U  1412019715   7618764\n",
              "11208       11209    CA  33.766389  ...        U  1412019715   7618764\n",
              "11211       11212    CA  33.799722  ...        U  1412019715   7618764\n",
              "12827       12828    CA  33.766389  ...        U  1412019715   7618764\n",
              "13435       13436    CA  34.205000  ...        U  1412019715   7618764\n",
              "...           ...   ...        ...  ...      ...         ...       ...\n",
              "1873317   1873318    CA  37.641838  ...        C     6643866     78956\n",
              "1874149   1874150    CA  37.620347  ...        C     6643866     78956\n",
              "1874819   1874820    CA  37.638504  ...        C     6643866     78956\n",
              "1876786   1876787    CA  37.640995  ...        C     6643866     78956\n",
              "1879339   1879340    CA  37.640446  ...        C     6643866     78956\n",
              "\n",
              "[231535 rows x 17 columns]"
            ]
          },
          "metadata": {
            "tags": []
          },
          "execution_count": 115
        }
      ]
    },
    {
      "cell_type": "markdown",
      "metadata": {
        "id": "rPyf_hP2xGwB"
      },
      "source": [
        "**Grouping the Database by Urban Area**\n",
        "\n",
        "From this new joined dataset, we can now associate each fire with a particular urban area. Let's use summary tools in GeoPandas to group the dataset by urban area name (`\"NAME10\"`), and get the fire count for each urban area.\n",
        "\n",
        "You can do a group-by using df.groupby(), and counts can be obtained using df.count()"
      ]
    },
    {
      "cell_type": "code",
      "metadata": {
        "id": "xCL_ZJROBpRw",
        "colab": {
          "base_uri": "https://localhost:8080/",
          "height": 446
        },
        "outputId": "ce44d59d-daf8-437c-a386-7d1b45d4a6f3"
      },
      "source": [
        "# We're getting the count of of fires, grouped by NAME10\n",
        "# Pandas/GeoPandas calculates the counts for all the columns by default (unlike the syntax in SQL)\n",
        "# so we select the OBJECTID column since a count of non-missing values in that column works for our purposes\n",
        "# sorting in descending order\n",
        "urban_fire_counts = df_geo_join_urban.groupby(\"NAME10\").count().sort_values(by=['OBJECTID'], ascending=False)[[\"OBJECTID\"]]\n",
        "# renaming (counts of) OBJECTID to NUM_FIRES\n",
        "urban_fire_counts = urban_fire_counts.rename(columns={'OBJECTID': 'NUM_FIRES'})\n",
        "urban_fire_counts"
      ],
      "execution_count": 116,
      "outputs": [
        {
          "output_type": "execute_result",
          "data": {
            "text/html": [
              "<div>\n",
              "<style scoped>\n",
              "    .dataframe tbody tr th:only-of-type {\n",
              "        vertical-align: middle;\n",
              "    }\n",
              "\n",
              "    .dataframe tbody tr th {\n",
              "        vertical-align: top;\n",
              "    }\n",
              "\n",
              "    .dataframe thead th {\n",
              "        text-align: right;\n",
              "    }\n",
              "</style>\n",
              "<table border=\"1\" class=\"dataframe\">\n",
              "  <thead>\n",
              "    <tr style=\"text-align: right;\">\n",
              "      <th></th>\n",
              "      <th>NUM_FIRES</th>\n",
              "    </tr>\n",
              "    <tr>\n",
              "      <th>NAME10</th>\n",
              "      <th></th>\n",
              "    </tr>\n",
              "  </thead>\n",
              "  <tbody>\n",
              "    <tr>\n",
              "      <th>New York--Newark, NY--NJ--CT</th>\n",
              "      <td>33427</td>\n",
              "    </tr>\n",
              "    <tr>\n",
              "      <th>Riverside--San Bernardino, CA</th>\n",
              "      <td>6717</td>\n",
              "    </tr>\n",
              "    <tr>\n",
              "      <th>Urban Honolulu, HI</th>\n",
              "      <td>4897</td>\n",
              "    </tr>\n",
              "    <tr>\n",
              "      <th>Atlanta, GA</th>\n",
              "      <td>4841</td>\n",
              "    </tr>\n",
              "    <tr>\n",
              "      <th>Rochester, NY</th>\n",
              "      <td>3633</td>\n",
              "    </tr>\n",
              "    <tr>\n",
              "      <th>...</th>\n",
              "      <td>...</td>\n",
              "    </tr>\n",
              "    <tr>\n",
              "      <th>Clear Lake, IA</th>\n",
              "      <td>1</td>\n",
              "    </tr>\n",
              "    <tr>\n",
              "      <th>Menomonie, WI</th>\n",
              "      <td>1</td>\n",
              "    </tr>\n",
              "    <tr>\n",
              "      <th>Fort Stockton, TX</th>\n",
              "      <td>1</td>\n",
              "    </tr>\n",
              "    <tr>\n",
              "      <th>Rock Valley, IA</th>\n",
              "      <td>1</td>\n",
              "    </tr>\n",
              "    <tr>\n",
              "      <th>Coshocton, OH</th>\n",
              "      <td>1</td>\n",
              "    </tr>\n",
              "  </tbody>\n",
              "</table>\n",
              "<p>2477 rows × 1 columns</p>\n",
              "</div>"
            ],
            "text/plain": [
              "                               NUM_FIRES\n",
              "NAME10                                  \n",
              "New York--Newark, NY--NJ--CT       33427\n",
              "Riverside--San Bernardino, CA       6717\n",
              "Urban Honolulu, HI                  4897\n",
              "Atlanta, GA                         4841\n",
              "Rochester, NY                       3633\n",
              "...                                  ...\n",
              "Clear Lake, IA                         1\n",
              "Menomonie, WI                          1\n",
              "Fort Stockton, TX                      1\n",
              "Rock Valley, IA                        1\n",
              "Coshocton, OH                          1\n",
              "\n",
              "[2477 rows x 1 columns]"
            ]
          },
          "metadata": {
            "tags": []
          },
          "execution_count": 116
        }
      ]
    },
    {
      "cell_type": "markdown",
      "metadata": {
        "id": "B2_afu5fyLKx"
      },
      "source": [
        "**Question 12:** Which urban areas are in the top 3 in terms of fire count? Is there anything about these urban areas that could explain why their fire count is so high? *Hint:* consider why New York and its suburbs would be number 1?\n",
        "\n",
        "You can use the table below (consisting of the above table, joined onto the urban_areas dataset) to see if anything is notable about some of the top places vs the bottom ones."
      ]
    },
    {
      "cell_type": "markdown",
      "metadata": {
        "id": "08ujt6eaybfG"
      },
      "source": [
        "*Top 3 are New York -- Newark, Riverside -- San Bernardino, and Urban Honolulu. The fiere count is so high because they are big cities and population is dense there.*"
      ]
    },
    {
      "cell_type": "code",
      "metadata": {
        "id": "9KC3hH_flbbK",
        "colab": {
          "base_uri": "https://localhost:8080/",
          "height": 415
        },
        "outputId": "a8830dca-c869-4ef2-c6ef-e15aff8c96f4"
      },
      "source": [
        "# doing an inner join between urban_fire_counts and urban_areas dataset, based on the name of the urban area\n",
        "# saving it to urban_fire_counts_joined because we will use this later\n",
        "urban_fire_counts_joined = urban_fire_counts.merge(urban_areas, how=\"inner\", on='NAME10')\n",
        "urban_fire_counts_joined"
      ],
      "execution_count": 117,
      "outputs": [
        {
          "output_type": "execute_result",
          "data": {
            "text/html": [
              "<div>\n",
              "<style scoped>\n",
              "    .dataframe tbody tr th:only-of-type {\n",
              "        vertical-align: middle;\n",
              "    }\n",
              "\n",
              "    .dataframe tbody tr th {\n",
              "        vertical-align: top;\n",
              "    }\n",
              "\n",
              "    .dataframe thead th {\n",
              "        text-align: right;\n",
              "    }\n",
              "</style>\n",
              "<table border=\"1\" class=\"dataframe\">\n",
              "  <thead>\n",
              "    <tr style=\"text-align: right;\">\n",
              "      <th></th>\n",
              "      <th>NAME10</th>\n",
              "      <th>NUM_FIRES</th>\n",
              "      <th>UACE10</th>\n",
              "      <th>AFFGEOID10</th>\n",
              "      <th>GEOID10</th>\n",
              "      <th>LSAD10</th>\n",
              "      <th>UATYP10</th>\n",
              "      <th>ALAND10</th>\n",
              "      <th>AWATER10</th>\n",
              "      <th>geometry</th>\n",
              "    </tr>\n",
              "  </thead>\n",
              "  <tbody>\n",
              "    <tr>\n",
              "      <th>0</th>\n",
              "      <td>New York--Newark, NY--NJ--CT</td>\n",
              "      <td>33427</td>\n",
              "      <td>63217</td>\n",
              "      <td>400C100US63217</td>\n",
              "      <td>63217</td>\n",
              "      <td>75</td>\n",
              "      <td>U</td>\n",
              "      <td>8934084608</td>\n",
              "      <td>534984232</td>\n",
              "      <td>MULTIPOLYGON (((-72.35716 40.90963, -72.35495 ...</td>\n",
              "    </tr>\n",
              "    <tr>\n",
              "      <th>1</th>\n",
              "      <td>Riverside--San Bernardino, CA</td>\n",
              "      <td>6717</td>\n",
              "      <td>75340</td>\n",
              "      <td>400C100US75340</td>\n",
              "      <td>75340</td>\n",
              "      <td>75</td>\n",
              "      <td>U</td>\n",
              "      <td>1412019715</td>\n",
              "      <td>7618764</td>\n",
              "      <td>MULTIPOLYGON (((-116.85224 33.95074, -116.8333...</td>\n",
              "    </tr>\n",
              "    <tr>\n",
              "      <th>2</th>\n",
              "      <td>Urban Honolulu, HI</td>\n",
              "      <td>4897</td>\n",
              "      <td>89770</td>\n",
              "      <td>400C100US89770</td>\n",
              "      <td>89770</td>\n",
              "      <td>75</td>\n",
              "      <td>U</td>\n",
              "      <td>440034686</td>\n",
              "      <td>13084141</td>\n",
              "      <td>MULTIPOLYGON (((-157.89224 21.30929, -157.8919...</td>\n",
              "    </tr>\n",
              "    <tr>\n",
              "      <th>3</th>\n",
              "      <td>Atlanta, GA</td>\n",
              "      <td>4841</td>\n",
              "      <td>03817</td>\n",
              "      <td>400C100US03817</td>\n",
              "      <td>03817</td>\n",
              "      <td>75</td>\n",
              "      <td>U</td>\n",
              "      <td>6851581056</td>\n",
              "      <td>93257528</td>\n",
              "      <td>MULTIPOLYGON (((-83.71458 34.10093, -83.71320 ...</td>\n",
              "    </tr>\n",
              "    <tr>\n",
              "      <th>4</th>\n",
              "      <td>Rochester, NY</td>\n",
              "      <td>3633</td>\n",
              "      <td>75664</td>\n",
              "      <td>400C100US75664</td>\n",
              "      <td>75664</td>\n",
              "      <td>75</td>\n",
              "      <td>U</td>\n",
              "      <td>840006639</td>\n",
              "      <td>17285006</td>\n",
              "      <td>MULTIPOLYGON (((-77.31627 42.88764, -77.30474 ...</td>\n",
              "    </tr>\n",
              "    <tr>\n",
              "      <th>...</th>\n",
              "      <td>...</td>\n",
              "      <td>...</td>\n",
              "      <td>...</td>\n",
              "      <td>...</td>\n",
              "      <td>...</td>\n",
              "      <td>...</td>\n",
              "      <td>...</td>\n",
              "      <td>...</td>\n",
              "      <td>...</td>\n",
              "      <td>...</td>\n",
              "    </tr>\n",
              "    <tr>\n",
              "      <th>2472</th>\n",
              "      <td>Clear Lake, IA</td>\n",
              "      <td>1</td>\n",
              "      <td>17506</td>\n",
              "      <td>400C100US17506</td>\n",
              "      <td>17506</td>\n",
              "      <td>76</td>\n",
              "      <td>C</td>\n",
              "      <td>17482377</td>\n",
              "      <td>44401</td>\n",
              "      <td>MULTIPOLYGON (((-93.34962 43.16970, -93.31995 ...</td>\n",
              "    </tr>\n",
              "    <tr>\n",
              "      <th>2473</th>\n",
              "      <td>Menomonie, WI</td>\n",
              "      <td>1</td>\n",
              "      <td>56224</td>\n",
              "      <td>400C100US56224</td>\n",
              "      <td>56224</td>\n",
              "      <td>76</td>\n",
              "      <td>C</td>\n",
              "      <td>30157850</td>\n",
              "      <td>4438867</td>\n",
              "      <td>POLYGON ((-91.94704 44.89885, -91.94567 44.899...</td>\n",
              "    </tr>\n",
              "    <tr>\n",
              "      <th>2474</th>\n",
              "      <td>Fort Stockton, TX</td>\n",
              "      <td>1</td>\n",
              "      <td>30952</td>\n",
              "      <td>400C100US30952</td>\n",
              "      <td>30952</td>\n",
              "      <td>76</td>\n",
              "      <td>C</td>\n",
              "      <td>15366151</td>\n",
              "      <td>0</td>\n",
              "      <td>MULTIPOLYGON (((-102.85032 30.88467, -102.8458...</td>\n",
              "    </tr>\n",
              "    <tr>\n",
              "      <th>2475</th>\n",
              "      <td>Rock Valley, IA</td>\n",
              "      <td>1</td>\n",
              "      <td>75907</td>\n",
              "      <td>400C100US75907</td>\n",
              "      <td>75907</td>\n",
              "      <td>76</td>\n",
              "      <td>C</td>\n",
              "      <td>4062966</td>\n",
              "      <td>0</td>\n",
              "      <td>MULTIPOLYGON (((-96.27528 43.21105, -96.27377 ...</td>\n",
              "    </tr>\n",
              "    <tr>\n",
              "      <th>2476</th>\n",
              "      <td>Coshocton, OH</td>\n",
              "      <td>1</td>\n",
              "      <td>20476</td>\n",
              "      <td>400C100US20476</td>\n",
              "      <td>20476</td>\n",
              "      <td>76</td>\n",
              "      <td>C</td>\n",
              "      <td>13446087</td>\n",
              "      <td>110784</td>\n",
              "      <td>POLYGON ((-81.90357 40.30084, -81.89675 40.301...</td>\n",
              "    </tr>\n",
              "  </tbody>\n",
              "</table>\n",
              "<p>2477 rows × 10 columns</p>\n",
              "</div>"
            ],
            "text/plain": [
              "                             NAME10  ...                                           geometry\n",
              "0      New York--Newark, NY--NJ--CT  ...  MULTIPOLYGON (((-72.35716 40.90963, -72.35495 ...\n",
              "1     Riverside--San Bernardino, CA  ...  MULTIPOLYGON (((-116.85224 33.95074, -116.8333...\n",
              "2                Urban Honolulu, HI  ...  MULTIPOLYGON (((-157.89224 21.30929, -157.8919...\n",
              "3                       Atlanta, GA  ...  MULTIPOLYGON (((-83.71458 34.10093, -83.71320 ...\n",
              "4                     Rochester, NY  ...  MULTIPOLYGON (((-77.31627 42.88764, -77.30474 ...\n",
              "...                             ...  ...                                                ...\n",
              "2472                 Clear Lake, IA  ...  MULTIPOLYGON (((-93.34962 43.16970, -93.31995 ...\n",
              "2473                  Menomonie, WI  ...  POLYGON ((-91.94704 44.89885, -91.94567 44.899...\n",
              "2474              Fort Stockton, TX  ...  MULTIPOLYGON (((-102.85032 30.88467, -102.8458...\n",
              "2475                Rock Valley, IA  ...  MULTIPOLYGON (((-96.27528 43.21105, -96.27377 ...\n",
              "2476                  Coshocton, OH  ...  POLYGON ((-81.90357 40.30084, -81.89675 40.301...\n",
              "\n",
              "[2477 rows x 10 columns]"
            ]
          },
          "metadata": {
            "tags": []
          },
          "execution_count": 117
        }
      ]
    },
    {
      "cell_type": "markdown",
      "metadata": {
        "id": "-_C0pgBZqo_G"
      },
      "source": [
        "*Note:* As seen above, non-spatial joins in Pandas/GeoPandas (like the ones you've done in SQL) are done using he `merge()` function. You can specify the type of join (left, right, inner, etc.) using the `how` parameter, as well as the field to join on using the `on` parameter. If the field on the left table has a different name than the corresponding field on the right table, use `left_on` and `right_on` to specify field names."
      ]
    },
    {
      "cell_type": "markdown",
      "metadata": {
        "id": "BUe-tA11yrnn"
      },
      "source": [
        "**Normalizing by Area**\n",
        "\n",
        "The previous method of ranking urban area penalizes smaller urban areas. Let's normalize by land area to see if that produces a more helpful metric. To get land area for these cities, we'll use `urban_fire_counts_joined`, which we created in the previous code block using a inner join with the summaries and the original table.\n",
        "\n",
        "Also note that the unit of `ALAND10` is meters squared - there are $2.59\\times10^6$ square meters in a square mile."
      ]
    },
    {
      "cell_type": "code",
      "metadata": {
        "id": "kXWNdtV7yqBQ",
        "colab": {
          "base_uri": "https://localhost:8080/",
          "height": 589
        },
        "outputId": "119bef5f-6bbb-496c-f26c-c3c81990112c"
      },
      "source": [
        "# calculating area in square miles and saving that to a new column\n",
        "urban_fire_counts_joined[\"ALAND10_SQMI\"] = urban_fire_counts_joined[\"ALAND10\"] / 2.59e+6\n",
        "# generating a new column for fires per square mile\n",
        "urban_fire_counts_joined[\"NUM_FIRES_PER_SQMI\"] = urban_fire_counts_joined[\"NUM_FIRES\"] / urban_fire_counts_joined[\"ALAND10_SQMI\"]\n",
        "# sorting the table in descending order\n",
        "urban_fire_counts_joined.sort_values(by=['NUM_FIRES_PER_SQMI'], ascending=False)"
      ],
      "execution_count": 118,
      "outputs": [
        {
          "output_type": "execute_result",
          "data": {
            "text/html": [
              "<div>\n",
              "<style scoped>\n",
              "    .dataframe tbody tr th:only-of-type {\n",
              "        vertical-align: middle;\n",
              "    }\n",
              "\n",
              "    .dataframe tbody tr th {\n",
              "        vertical-align: top;\n",
              "    }\n",
              "\n",
              "    .dataframe thead th {\n",
              "        text-align: right;\n",
              "    }\n",
              "</style>\n",
              "<table border=\"1\" class=\"dataframe\">\n",
              "  <thead>\n",
              "    <tr style=\"text-align: right;\">\n",
              "      <th></th>\n",
              "      <th>NAME10</th>\n",
              "      <th>NUM_FIRES</th>\n",
              "      <th>UACE10</th>\n",
              "      <th>AFFGEOID10</th>\n",
              "      <th>GEOID10</th>\n",
              "      <th>LSAD10</th>\n",
              "      <th>UATYP10</th>\n",
              "      <th>ALAND10</th>\n",
              "      <th>AWATER10</th>\n",
              "      <th>geometry</th>\n",
              "      <th>ALAND10_SQMI</th>\n",
              "      <th>NUM_FIRES_PER_SQMI</th>\n",
              "    </tr>\n",
              "  </thead>\n",
              "  <tbody>\n",
              "    <tr>\n",
              "      <th>24</th>\n",
              "      <td>Pine Ridge, SD</td>\n",
              "      <td>1496</td>\n",
              "      <td>69535</td>\n",
              "      <td>400C100US69535</td>\n",
              "      <td>69535</td>\n",
              "      <td>76</td>\n",
              "      <td>C</td>\n",
              "      <td>2895683</td>\n",
              "      <td>0</td>\n",
              "      <td>MULTIPOLYGON (((-102.54706 43.03165, -102.5470...</td>\n",
              "      <td>1.118024</td>\n",
              "      <td>1338.074644</td>\n",
              "    </tr>\n",
              "    <tr>\n",
              "      <th>56</th>\n",
              "      <td>Poplar, MT</td>\n",
              "      <td>681</td>\n",
              "      <td>70777</td>\n",
              "      <td>400C100US70777</td>\n",
              "      <td>70777</td>\n",
              "      <td>76</td>\n",
              "      <td>C</td>\n",
              "      <td>3471107</td>\n",
              "      <td>0</td>\n",
              "      <td>POLYGON ((-105.21638 48.11581, -105.21450 48.1...</td>\n",
              "      <td>1.340196</td>\n",
              "      <td>508.134725</td>\n",
              "    </tr>\n",
              "    <tr>\n",
              "      <th>15</th>\n",
              "      <td>San Carlos, AZ</td>\n",
              "      <td>2097</td>\n",
              "      <td>78607</td>\n",
              "      <td>400C100US78607</td>\n",
              "      <td>78607</td>\n",
              "      <td>76</td>\n",
              "      <td>C</td>\n",
              "      <td>10801984</td>\n",
              "      <td>1106</td>\n",
              "      <td>MULTIPOLYGON (((-110.45763 33.29733, -110.4554...</td>\n",
              "      <td>4.170650</td>\n",
              "      <td>502.799301</td>\n",
              "    </tr>\n",
              "    <tr>\n",
              "      <th>84</th>\n",
              "      <td>Browning, MT</td>\n",
              "      <td>455</td>\n",
              "      <td>10864</td>\n",
              "      <td>400C100US10864</td>\n",
              "      <td>10864</td>\n",
              "      <td>76</td>\n",
              "      <td>C</td>\n",
              "      <td>4860599</td>\n",
              "      <td>72933</td>\n",
              "      <td>POLYGON ((-113.03436 48.54131, -113.03092 48.5...</td>\n",
              "      <td>1.876679</td>\n",
              "      <td>242.449542</td>\n",
              "    </tr>\n",
              "    <tr>\n",
              "      <th>160</th>\n",
              "      <td>North Eagle Butte, SD</td>\n",
              "      <td>257</td>\n",
              "      <td>63588</td>\n",
              "      <td>400C100US63588</td>\n",
              "      <td>63588</td>\n",
              "      <td>76</td>\n",
              "      <td>C</td>\n",
              "      <td>3531341</td>\n",
              "      <td>0</td>\n",
              "      <td>POLYGON ((-101.24189 44.99998, -101.24125 45.0...</td>\n",
              "      <td>1.363452</td>\n",
              "      <td>188.492134</td>\n",
              "    </tr>\n",
              "    <tr>\n",
              "      <th>...</th>\n",
              "      <td>...</td>\n",
              "      <td>...</td>\n",
              "      <td>...</td>\n",
              "      <td>...</td>\n",
              "      <td>...</td>\n",
              "      <td>...</td>\n",
              "      <td>...</td>\n",
              "      <td>...</td>\n",
              "      <td>...</td>\n",
              "      <td>...</td>\n",
              "      <td>...</td>\n",
              "      <td>...</td>\n",
              "    </tr>\n",
              "    <tr>\n",
              "      <th>1973</th>\n",
              "      <td>Cincinnati, OH--KY--IN</td>\n",
              "      <td>3</td>\n",
              "      <td>16885</td>\n",
              "      <td>400C100US16885</td>\n",
              "      <td>16885</td>\n",
              "      <td>75</td>\n",
              "      <td>U</td>\n",
              "      <td>2040396726</td>\n",
              "      <td>24339712</td>\n",
              "      <td>MULTIPOLYGON (((-84.05054 39.05261, -84.05048 ...</td>\n",
              "      <td>787.797964</td>\n",
              "      <td>0.003808</td>\n",
              "    </tr>\n",
              "    <tr>\n",
              "      <th>2130</th>\n",
              "      <td>Milwaukee, WI</td>\n",
              "      <td>2</td>\n",
              "      <td>57466</td>\n",
              "      <td>400C100US57466</td>\n",
              "      <td>57466</td>\n",
              "      <td>75</td>\n",
              "      <td>U</td>\n",
              "      <td>1413151381</td>\n",
              "      <td>49351861</td>\n",
              "      <td>MULTIPOLYGON (((-87.92842 43.30931, -87.92522 ...</td>\n",
              "      <td>545.618294</td>\n",
              "      <td>0.003666</td>\n",
              "    </tr>\n",
              "    <tr>\n",
              "      <th>2193</th>\n",
              "      <td>Akron, OH</td>\n",
              "      <td>1</td>\n",
              "      <td>00766</td>\n",
              "      <td>400C100US00766</td>\n",
              "      <td>00766</td>\n",
              "      <td>75</td>\n",
              "      <td>U</td>\n",
              "      <td>842815514</td>\n",
              "      <td>17431799</td>\n",
              "      <td>MULTIPOLYGON (((-81.30012 41.16281, -81.29977 ...</td>\n",
              "      <td>325.411395</td>\n",
              "      <td>0.003073</td>\n",
              "    </tr>\n",
              "    <tr>\n",
              "      <th>2145</th>\n",
              "      <td>Cleveland, OH</td>\n",
              "      <td>2</td>\n",
              "      <td>17668</td>\n",
              "      <td>400C100US17668</td>\n",
              "      <td>17668</td>\n",
              "      <td>75</td>\n",
              "      <td>U</td>\n",
              "      <td>2004098980</td>\n",
              "      <td>11901959</td>\n",
              "      <td>MULTIPOLYGON (((-81.09328 41.76613, -81.09313 ...</td>\n",
              "      <td>773.783390</td>\n",
              "      <td>0.002585</td>\n",
              "    </tr>\n",
              "    <tr>\n",
              "      <th>2108</th>\n",
              "      <td>Detroit, MI</td>\n",
              "      <td>2</td>\n",
              "      <td>23824</td>\n",
              "      <td>400C100US23824</td>\n",
              "      <td>23824</td>\n",
              "      <td>75</td>\n",
              "      <td>U</td>\n",
              "      <td>3460893786</td>\n",
              "      <td>94001027</td>\n",
              "      <td>MULTIPOLYGON (((-82.76862 42.72953, -82.76760 ...</td>\n",
              "      <td>1336.252427</td>\n",
              "      <td>0.001497</td>\n",
              "    </tr>\n",
              "  </tbody>\n",
              "</table>\n",
              "<p>2477 rows × 12 columns</p>\n",
              "</div>"
            ],
            "text/plain": [
              "                      NAME10  NUM_FIRES  ... ALAND10_SQMI NUM_FIRES_PER_SQMI\n",
              "24            Pine Ridge, SD       1496  ...     1.118024        1338.074644\n",
              "56                Poplar, MT        681  ...     1.340196         508.134725\n",
              "15            San Carlos, AZ       2097  ...     4.170650         502.799301\n",
              "84              Browning, MT        455  ...     1.876679         242.449542\n",
              "160    North Eagle Butte, SD        257  ...     1.363452         188.492134\n",
              "...                      ...        ...  ...          ...                ...\n",
              "1973  Cincinnati, OH--KY--IN          3  ...   787.797964           0.003808\n",
              "2130           Milwaukee, WI          2  ...   545.618294           0.003666\n",
              "2193               Akron, OH          1  ...   325.411395           0.003073\n",
              "2145           Cleveland, OH          2  ...   773.783390           0.002585\n",
              "2108             Detroit, MI          2  ...  1336.252427           0.001497\n",
              "\n",
              "[2477 rows x 12 columns]"
            ]
          },
          "metadata": {
            "tags": []
          },
          "execution_count": 118
        }
      ]
    },
    {
      "cell_type": "markdown",
      "metadata": {
        "id": "f-4CxwRQnCh9"
      },
      "source": [
        "**Question 13:** Which urban areas are in the top 3 in terms of fire count per square mile? How does this differ from the top 3 in the previous question? Is this method also biased towards certain urban areas?"
      ]
    },
    {
      "cell_type": "markdown",
      "metadata": {
        "id": "a4YvMmSXnCh-"
      },
      "source": [
        "*Top 3 are Pine Ridge, Poplar, and San Carlos. These are smaller cities. This method might be biased toward urban areas in the midwest. *\n",
        "\n"
      ]
    },
    {
      "cell_type": "markdown",
      "metadata": {
        "id": "MMRXQBxx8MrY"
      },
      "source": [
        "In the homework, we'll revise this analysis to get rid of some of this bias towards urban areas with sizes on either extreme."
      ]
    }
  ]
}
